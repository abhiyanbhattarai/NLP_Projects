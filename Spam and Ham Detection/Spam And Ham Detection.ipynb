{
 "cells": [
  {
   "cell_type": "markdown",
   "id": "d49b24c2",
   "metadata": {},
   "source": [
    "# Project Title: Accurate NLP Spam-Ham Detection using NB Classifier and LSTM Model\n",
    "\n",
    "## Project Description\n",
    "This project centers around the development of an accurate spam and ham message detection system using Natural Language Processing (NLP) techniques. Leveraging both a Naive Bayes (NB) classifier and a Long Short-Term Memory (LSTM) model, the project aims to achieve highly precise predictions.\n",
    "\n",
    "## Approach\n",
    "1. **Data Preparation:** Curate a labeled dataset containing spam and ham messages, followed by meticulous preprocessing to ready the text data.\n",
    "\n",
    "\n",
    "2. **Baseline Model (Naive Bayes):** Implement a NB classifier as a baseline approach for message classification.\n",
    "\n",
    "\n",
    "3. **Advanced Model (LSTM):** Construct an LSTM neural network to capture intricate patterns within the text data.\n",
    "\n",
    "\n",
    "4. **Model Comparison and Validation:**\n",
    "   - Train the NB classifier and LSTM model using the prepared dataset.\n",
    "   - Thoroughly validate the models, assessing their accuracy, precision, recall, and F1-score.\n",
    "   - Emphasize the alignment of model predictions with actual results.\n",
    "\n",
    "\n",
    "5. **Precision and Impact:**\n",
    "   - Showcase the exceptional accuracy of your predictions, highlighting their alignment with the real-world spam and ham categorizations.\n",
    "   - Share instances where the model accurately distinguished between spam and ham, showcasing its practicality.\n",
    "\n",
    "## Project Significance\n",
    "The project's achievement of pinpoint prediction accuracy underscores its value as a reliable tool for spam and ham detection. By leveraging the NB classifier and LSTM model, this project offers an impressive solution to enhance communication experiences through effective message categorization.\n"
   ]
  },
  {
   "cell_type": "markdown",
   "id": "6eeb28d1",
   "metadata": {},
   "source": [
    "**Importing Libraries**"
   ]
  },
  {
   "cell_type": "code",
   "execution_count": 1,
   "id": "feff643b",
   "metadata": {},
   "outputs": [],
   "source": [
    "#Importing the nessary libraries\n",
    "import pandas as pd  # Data manipulation and analysis\n",
    "import numpy as np  # Numerical computations\n",
    "import os  # Operating system-related tasks\n",
    "import email  # Working with email messages\n",
    "import email.policy  # Email parsing policies\n",
    "import random  # Generating random values\n",
    "import matplotlib.pyplot as plt  # Data visualization\n",
    "import seaborn as sns  # Statistical data visualization"
   ]
  },
  {
   "cell_type": "code",
   "execution_count": 2,
   "id": "d282fe82",
   "metadata": {},
   "outputs": [],
   "source": [
    "#Importing all the nltk libraries\n",
    "from nltk.corpus import stopwords  # Stopwords corpus\n",
    "from nltk.tokenize import word_tokenize  # Word tokenization\n",
    "from nltk.stem import PorterStemmer  # Word stemming\n",
    "from nltk.stem import WordNetLemmatizer  # Word lemmatization\n",
    "import re  # Regular expression operations\n",
    "import string  # String operations\n",
    "import nltk  # Natural language processing tasks\n",
    "# nltk.download('punkt')  # Downloading punkt resource\n",
    "# nltk.download('stopwords')  # Downloading stopwords resource\n",
    "# nltk.download('wordnet')  # Downloading wordnet resource\n",
    "# nltk.download('omw-1.4')  # Downloading Open Multilingual Wordnet (OMW) resource"
   ]
  },
  {
   "cell_type": "markdown",
   "id": "6472783f",
   "metadata": {},
   "source": [
    "**Loading our email data**"
   ]
  },
  {
   "cell_type": "code",
   "execution_count": 3,
   "id": "2c4f7a53",
   "metadata": {},
   "outputs": [],
   "source": [
    "#Creating a function to load emails\n",
    "def load_email(is_spam, filename, path):\n",
    "    if is_spam:\n",
    "        file_path = os.path.join(path, 'spam', filename)\n",
    "    else:\n",
    "        file_path = os.path.join(path, 'ham', filename)\n",
    "    \n",
    "    with open(file_path, 'rb') as f:\n",
    "        return email.parser.BytesParser(policy=email.policy.default).parse(f)\n",
    "\n",
    "#Path to our files\n",
    "PATH = 'SpamDetection/'\n",
    "\n",
    "#Loading spam emails\n",
    "spam_folder_path = os.path.join(PATH, 'spam')\n",
    "spam_file_list = os.listdir(spam_folder_path)\n",
    "spam_emails = [load_email(True, name, PATH) for name in spam_file_list]\n",
    "\n",
    "#Loading ham emails\n",
    "ham_folder_path = os.path.join(PATH, 'ham')\n",
    "ham_file_list = os.listdir(ham_folder_path)\n",
    "ham_emails = [load_email(False, name, PATH) for name in ham_file_list]"
   ]
  },
  {
   "cell_type": "code",
   "execution_count": 4,
   "id": "622fa037",
   "metadata": {},
   "outputs": [
    {
     "name": "stdout",
     "output_type": "stream",
     "text": [
      "Content of the first spam email:\n",
      "--------------------------------------------\n",
      "Greetings!\n",
      "\n",
      "You are receiving this letter because you have expressed an interest in \n",
      "receiving information about online business opportunities. If this is \n",
      "erroneous then please accept my most sincere apology. This is a one-time \n",
      "mailing, so no removal is necessary.\n",
      "\n",
      "If you've been burned, betrayed, and back-stabbed by multi-level marketing, \n",
      "MLM, then please read this letter. It could be the most important one that \n",
      "has ever landed in your Inbox.\n",
      "\n",
      "MULTI-LEVEL MARKETING IS A HUGE MISTAKE FOR MOS\n"
     ]
    }
   ],
   "source": [
    "# Display the content of the first spam email\n",
    "print(\"Content of the first spam email:\")\n",
    "email = spam_emails[0]\n",
    "print(\"--------------------------------------------\")\n",
    "#Displaying only 500 characters from email.\n",
    "content = email.get_content()[:500]  \n",
    "print(content)"
   ]
  },
  {
   "cell_type": "code",
   "execution_count": 5,
   "id": "0d7f831a",
   "metadata": {},
   "outputs": [
    {
     "name": "stdout",
     "output_type": "stream",
     "text": [
      "Content of ham emails:\n",
      "--------------------------------------------\n",
      "    Date:        Tue, 20 Aug 2002 17:27:47 -0500\n",
      "    From:        Chris Garrigues <cwg-exmh@DeepEddy.Com>\n",
      "    Message-ID:  <1029882468.3116.TMDA@deepeddy.vircio.com>\n",
      "\n",
      "\n",
      "  | I'm hoping that all people with no additional sequences will notice are\n",
      "  | purely cosmetic changes.\n",
      "\n",
      "Well, first, when exmh (the latest one with your changes) starts, I get...\n",
      "\n",
      "can't read \"flist(totalcount,unseen)\": no such element in array\n",
      "    while executing\n",
      "\"if {$flist(totalcount,$mhProfile(unseen-sequence)) > 0} {\n",
      "\tFlagIn\n"
     ]
    }
   ],
   "source": [
    "# Displaying the content of ham emails\n",
    "print(\"Content of ham emails:\")\n",
    "email = ham_emails[0]\n",
    "print(\"--------------------------------------------\")\n",
    "content = email.get_content()[:500]  \n",
    "print(content)"
   ]
  },
  {
   "cell_type": "markdown",
   "id": "d9ab5633",
   "metadata": {},
   "source": [
    "**Defining functions to preprocess our email content**"
   ]
  },
  {
   "cell_type": "code",
   "execution_count": 6,
   "id": "8b2330da",
   "metadata": {},
   "outputs": [],
   "source": [
    "#Function to remove emojis\n",
    "def remove_emojis(text):\n",
    "    emoji_pattern = re.compile(\"[\"\n",
    "                               u\"\\U0001F600-\\U0001F64F\"  # emoticons\n",
    "                               u\"\\U0001F300-\\U0001F5FF\"  # symbols & pictographs\n",
    "                               u\"\\U0001F680-\\U0001F6FF\"  # transport & map symbols\n",
    "                               u\"\\U0001F1E0-\\U0001F1FF\"  # flags\n",
    "                               u\"\\U00002500-\\U00002BEF\"  # Chinese/Japanese/Korean characters\n",
    "                               u\"\\U00002702-\\U000027B0\"\n",
    "                               u\"\\U00002702-\\U000027B0\"\n",
    "                               u\"\\U000024C2-\\U0001F251\"\n",
    "                               u\"\\U0001f926-\\U0001f937\"\n",
    "                               u\"\\U00010000-\\U0010ffff\"\n",
    "                               \"\\u200d\"  # zero width joiner\n",
    "                               \"\\u2640-\\u2642\"  # gender specific emojis\n",
    "                               \"\\u2600-\\u2B55\"  # weather emojis\n",
    "                               \"\\u23cf\"  # Eject button\n",
    "                               \"\\u23e9\"  # Fast forward button\n",
    "                               \"\\u231a\"  # Watch\n",
    "                               \"\\ufe0f\"  # Variants (text style, emoji style, etc.)\n",
    "                               \"\\u3030\"\n",
    "                               \"]+\", flags=re.UNICODE)\n",
    "    return emoji_pattern.sub(r'', text)"
   ]
  },
  {
   "cell_type": "code",
   "execution_count": 7,
   "id": "3177a581",
   "metadata": {},
   "outputs": [],
   "source": [
    "#Preprocessing the data using a function\n",
    "def normalize_text(content) :\n",
    "    '''\n",
    "    preprocesses the content of an email \n",
    "    \n",
    "    and returns a dictionary with word as key and its frequency as value\n",
    "    @content : email content (a string)\n",
    "    @return : a counting dictionary \n",
    "    '''                                         \n",
    "    if not isinstance(content,str) :       \n",
    "        return {},''\n",
    "    content = re.sub(r'<[^<>]+>', ' ',content)  ##strip all HTML\n",
    "    \n",
    "    #Remove emojis\n",
    "    content = remove_emojis(content)\n",
    "\n",
    "    content = str.lower(content) ##lower case\n",
    "    #handle URLS with http:// or https://\n",
    "    \n",
    "    content = re.sub(r'(http|https)://[^\\s]*','httpaddr ',content) \n",
    "    \n",
    "    content = re.sub(r'www\\.[^\\s]*','httpaddr ',content) #handle URLS with www.\n",
    "    #handle email addresses\n",
    "    #look for strings with @ in the middle\n",
    "    content = re.sub(r'[^\\s]+@[^\\s]+','emailaddr',content)\n",
    "    \n",
    "    content = re.sub(r'[0-9]+', 'number ',content) #handle numbers\n",
    "    \n",
    "    content = re.sub(r'[$]+','dollar ',content) #handle $ sign \n",
    "    \n",
    "    content = re.sub(r'[\\n]+',' ',content) #remove \\n\n",
    "    \n",
    "    content = re.sub(r'[{0}]'.format(string.punctuation),' ',content)#remove punctuations \n",
    "    \n",
    "    tokens = word_tokenize(content)  # Tokenization\n",
    "\n",
    "    stop_words = set(stopwords.words('english'))  # Removing stop words\n",
    "    \n",
    "    tokens = [token for token in tokens if token not in stop_words]\n",
    "\n",
    "    lemmatizer = WordNetLemmatizer()  # Lemmatization\n",
    "    \n",
    "    tokens = [lemmatizer.lemmatize(token) for token in tokens]\n",
    "\n",
    "    stemmer = PorterStemmer()  # Stemming\n",
    "    \n",
    "    tokens = [stemmer.stem(token) for token in tokens]\n",
    "\n",
    "    content = ' '.join(tokens)\n",
    "    \n",
    "    return content\n"
   ]
  },
  {
   "cell_type": "code",
   "execution_count": 8,
   "id": "b04f4059",
   "metadata": {},
   "outputs": [],
   "source": [
    "#Normalizing the spam email content\n",
    "normalized_spam_emails = []\n",
    "#preprocessing every content in emails\n",
    "for email in spam_emails:\n",
    "    try:\n",
    "        content = email.get_content()\n",
    "        normalized_text = normalize_text(content)\n",
    "        normalized_spam_emails.append(normalized_text)\n",
    "    except LookupError:\n",
    "        continue\n",
    "\n",
    "#Normalizing the ham email content\n",
    "normalized_ham_emails = []\n",
    "for email in ham_emails:\n",
    "    try:\n",
    "        content = email.get_content()\n",
    "        normalized_text = normalize_text(content)\n",
    "        normalized_ham_emails.append(normalized_text)\n",
    "    except LookupError:\n",
    "        continue"
   ]
  },
  {
   "cell_type": "code",
   "execution_count": 9,
   "id": "a32c5020",
   "metadata": {},
   "outputs": [
    {
     "name": "stdout",
     "output_type": "stream",
     "text": [
      "Content of Spam emails:\n",
      "--------------------------------------------\n",
      "greet receiv letter express interest receiv inform onlin busi opportun erron pleas accept sincer apolog one time mail remov necessari burn betray back stab multi level market mlm pleas read letter could import one ever land inbox multi level market huge mistak peopl mlm fail deliv promis past number year pursuit mlm dream cost hundr thousand peopl friend fortun sacr honor fact mlm fatal flaw mean work peopl compani earn big money mlm go tell real stori final someon courag cut hype lie tell truth\n"
     ]
    }
   ],
   "source": [
    "#Displaying the content of spam emails\n",
    "print(\"Content of Spam emails:\")\n",
    "for email in normalized_spam_emails[0:1]:\n",
    "    print(\"--------------------------------------------\")\n",
    "    #Displaying only 500 character\n",
    "    print(email[:][:500])"
   ]
  },
  {
   "cell_type": "code",
   "execution_count": 10,
   "id": "6712868d",
   "metadata": {},
   "outputs": [
    {
     "name": "stdout",
     "output_type": "stream",
     "text": [
      "Content of Ham emails:\n",
      "--------------------------------------------\n",
      "date tue number aug number number number number number chri garrigu messag id hope peopl addit sequenc notic pure cosmet chang well first exmh latest one chang start get read flist totalcount unseen element array execut dollar flist totalcount dollar mhprofil unseen sequenc number flaginn spool iconspool labelup els flaginn icondown labeldown procedur flag msgseen line number invok within flag msgseen procedur msgseen line number invok within msgseen dollar msgid procedur msgshow line number inv\n"
     ]
    }
   ],
   "source": [
    "#Displaying the content of spam emails\n",
    "print(\"Content of Ham emails:\")\n",
    "for email in normalized_ham_emails[0:1]:\n",
    "    print(\"--------------------------------------------\")\n",
    "    #Displaying only 500 character\n",
    "    print(email[:][:500])"
   ]
  },
  {
   "cell_type": "markdown",
   "id": "706dd97e",
   "metadata": {},
   "source": [
    "**Merging our preprocessed data and creating a dataframe**"
   ]
  },
  {
   "cell_type": "code",
   "execution_count": 11,
   "id": "02c7d104",
   "metadata": {},
   "outputs": [],
   "source": [
    "#Combining both noramlized spam and ham emails\n",
    "combined_emails = normalized_spam_emails + normalized_ham_emails\n",
    "\n",
    "#Creating label lists\n",
    "spam_labels = ['spam'] * len(normalized_spam_emails)\n",
    "ham_labels = ['ham'] * len(normalized_ham_emails)\n",
    "\n",
    "#Combining the labels\n",
    "combined_labels = spam_labels + ham_labels"
   ]
  },
  {
   "cell_type": "code",
   "execution_count": 12,
   "id": "441a33dd",
   "metadata": {},
   "outputs": [],
   "source": [
    "#Creating a DataFrame with the email texts and labels\n",
    "data = pd.DataFrame({'Text': combined_emails, 'Label': combined_labels})"
   ]
  },
  {
   "cell_type": "code",
   "execution_count": 13,
   "id": "942ecf07",
   "metadata": {},
   "outputs": [
    {
     "data": {
      "text/html": [
       "<div>\n",
       "<style scoped>\n",
       "    .dataframe tbody tr th:only-of-type {\n",
       "        vertical-align: middle;\n",
       "    }\n",
       "\n",
       "    .dataframe tbody tr th {\n",
       "        vertical-align: top;\n",
       "    }\n",
       "\n",
       "    .dataframe thead th {\n",
       "        text-align: right;\n",
       "    }\n",
       "</style>\n",
       "<table border=\"1\" class=\"dataframe\">\n",
       "  <thead>\n",
       "    <tr style=\"text-align: right;\">\n",
       "      <th></th>\n",
       "      <th>Text</th>\n",
       "      <th>Label</th>\n",
       "    </tr>\n",
       "  </thead>\n",
       "  <tbody>\n",
       "    <tr>\n",
       "      <th>0</th>\n",
       "      <td>greet receiv letter express interest receiv in...</td>\n",
       "      <td>spam</td>\n",
       "    </tr>\n",
       "    <tr>\n",
       "      <th>1</th>\n",
       "      <td>ilugadminlinuxi tue aug returnpath ilugadminli...</td>\n",
       "      <td>spam</td>\n",
       "    </tr>\n",
       "    <tr>\n",
       "      <th>2</th>\n",
       "      <td>ilugadminlinuxi tue aug returnpath ilugadminli...</td>\n",
       "      <td>spam</td>\n",
       "    </tr>\n",
       "    <tr>\n",
       "      <th>3</th>\n",
       "      <td>save number life insur spend life quot save en...</td>\n",
       "      <td>spam</td>\n",
       "    </tr>\n",
       "    <tr>\n",
       "      <th>4</th>\n",
       "      <td>amailbotwebd thu aug returnpath amailbotwebd d...</td>\n",
       "      <td>spam</td>\n",
       "    </tr>\n",
       "  </tbody>\n",
       "</table>\n",
       "</div>"
      ],
      "text/plain": [
       "                                                Text Label\n",
       "0  greet receiv letter express interest receiv in...  spam\n",
       "1  ilugadminlinuxi tue aug returnpath ilugadminli...  spam\n",
       "2  ilugadminlinuxi tue aug returnpath ilugadminli...  spam\n",
       "3  save number life insur spend life quot save en...  spam\n",
       "4  amailbotwebd thu aug returnpath amailbotwebd d...  spam"
      ]
     },
     "execution_count": 13,
     "metadata": {},
     "output_type": "execute_result"
    }
   ],
   "source": [
    "#Printing the DataFrame\n",
    "data.head()s"
   ]
  },
  {
   "cell_type": "code",
   "execution_count": 14,
   "id": "048ad64c",
   "metadata": {},
   "outputs": [
    {
     "data": {
      "image/png": "[encoded data removed]",
      "text/plain": [
       "<Figure size 432x288 with 1 Axes>"
      ]
     },
     "metadata": {
      "needs_background": "light"
     },
     "output_type": "display_data"
    }
   ],
   "source": [
    "#Getting label count values to create a bar plot\n",
    "label_count = data['Label'].value_counts()\n",
    "\n",
    "#Selecting colors for our bar\n",
    "colors = ['blue', 'orange']\n",
    "\n",
    "#Creating a bar plot\n",
    "plt.bar(label_count.index, label_count.values,color = colors)\n",
    "\n",
    "#Adding title and labels\n",
    "plt.xlabel('Label')\n",
    "plt.ylabel('Count')\n",
    "plt.title('Distribution of Labels',fontweight= 'bold')\n",
    "\n",
    "#Adjusting the x-axis tick positions\n",
    "plt.xticks(range(len(label_count)), label_count.index)\n",
    "\n",
    "#Addding labels on the bars\n",
    "for i, count in enumerate(label_count.values):\n",
    "    plt.text(i, count, str(count), ha='center', va='bottom')\n",
    "\n",
    "#Displaying the plot\n",
    "plt.show()"
   ]
  },
  {
   "cell_type": "markdown",
   "id": "a1f5ec8e",
   "metadata": {},
   "source": [
    "Clearly our data is imbalanced. We need to sample the data."
   ]
  },
  {
   "cell_type": "code",
   "execution_count": 15,
   "id": "8620b65d",
   "metadata": {},
   "outputs": [],
   "source": [
    "#Converting label into category type\n",
    "data['Label'] = data['Label'].astype('category')"
   ]
  },
  {
   "cell_type": "code",
   "execution_count": 16,
   "id": "a8f699bc",
   "metadata": {},
   "outputs": [],
   "source": [
    "#Changing spam to 1 and ham to 0\n",
    "data['Label'] = data['Label'].apply(lambda x: 0 if x == 'ham' else 1)"
   ]
  },
  {
   "cell_type": "code",
   "execution_count": 17,
   "id": "919ebde4",
   "metadata": {},
   "outputs": [
    {
     "data": {
      "text/html": [
       "<div>\n",
       "<style scoped>\n",
       "    .dataframe tbody tr th:only-of-type {\n",
       "        vertical-align: middle;\n",
       "    }\n",
       "\n",
       "    .dataframe tbody tr th {\n",
       "        vertical-align: top;\n",
       "    }\n",
       "\n",
       "    .dataframe thead th {\n",
       "        text-align: right;\n",
       "    }\n",
       "</style>\n",
       "<table border=\"1\" class=\"dataframe\">\n",
       "  <thead>\n",
       "    <tr style=\"text-align: right;\">\n",
       "      <th></th>\n",
       "      <th>Text</th>\n",
       "      <th>Label</th>\n",
       "    </tr>\n",
       "  </thead>\n",
       "  <tbody>\n",
       "    <tr>\n",
       "      <th>0</th>\n",
       "      <td>greet receiv letter express interest receiv in...</td>\n",
       "      <td>1</td>\n",
       "    </tr>\n",
       "    <tr>\n",
       "      <th>1</th>\n",
       "      <td>ilugadminlinuxi tue aug returnpath ilugadminli...</td>\n",
       "      <td>1</td>\n",
       "    </tr>\n",
       "    <tr>\n",
       "      <th>2</th>\n",
       "      <td>ilugadminlinuxi tue aug returnpath ilugadminli...</td>\n",
       "      <td>1</td>\n",
       "    </tr>\n",
       "    <tr>\n",
       "      <th>3</th>\n",
       "      <td>save number life insur spend life quot save en...</td>\n",
       "      <td>1</td>\n",
       "    </tr>\n",
       "    <tr>\n",
       "      <th>4</th>\n",
       "      <td>amailbotwebd thu aug returnpath amailbotwebd d...</td>\n",
       "      <td>1</td>\n",
       "    </tr>\n",
       "  </tbody>\n",
       "</table>\n",
       "</div>"
      ],
      "text/plain": [
       "                                                Text Label\n",
       "0  greet receiv letter express interest receiv in...     1\n",
       "1  ilugadminlinuxi tue aug returnpath ilugadminli...     1\n",
       "2  ilugadminlinuxi tue aug returnpath ilugadminli...     1\n",
       "3  save number life insur spend life quot save en...     1\n",
       "4  amailbotwebd thu aug returnpath amailbotwebd d...     1"
      ]
     },
     "execution_count": 17,
     "metadata": {},
     "output_type": "execute_result"
    }
   ],
   "source": [
    "data.head()"
   ]
  },
  {
   "cell_type": "markdown",
   "id": "51f452da",
   "metadata": {},
   "source": [
    "**Handling Unbalanced Data**"
   ]
  },
  {
   "cell_type": "code",
   "execution_count": 18,
   "id": "71a5f4dc",
   "metadata": {},
   "outputs": [
    {
     "data": {
      "text/html": [
       "<div>\n",
       "<style scoped>\n",
       "    .dataframe tbody tr th:only-of-type {\n",
       "        vertical-align: middle;\n",
       "    }\n",
       "\n",
       "    .dataframe tbody tr th {\n",
       "        vertical-align: top;\n",
       "    }\n",
       "\n",
       "    .dataframe thead th {\n",
       "        text-align: right;\n",
       "    }\n",
       "</style>\n",
       "<table border=\"1\" class=\"dataframe\">\n",
       "  <thead>\n",
       "    <tr style=\"text-align: right;\">\n",
       "      <th></th>\n",
       "      <th>Text</th>\n",
       "      <th>Label</th>\n",
       "    </tr>\n",
       "  </thead>\n",
       "  <tbody>\n",
       "    <tr>\n",
       "      <th>3018</th>\n",
       "      <td>ilugadminlinuxi tue aug returnpath ilugadminli...</td>\n",
       "      <td>0</td>\n",
       "    </tr>\n",
       "    <tr>\n",
       "      <th>54</th>\n",
       "      <td>forkadminxentcom tue aug returnpath forkadminx...</td>\n",
       "      <td>0</td>\n",
       "    </tr>\n",
       "    <tr>\n",
       "      <th>4372</th>\n",
       "      <td>protect financi well purchas extend auto warra...</td>\n",
       "      <td>1</td>\n",
       "    </tr>\n",
       "    <tr>\n",
       "      <th>4433</th>\n",
       "      <td>senttozzzzspamassassintaintorgreturnsgroupsyah...</td>\n",
       "      <td>0</td>\n",
       "    </tr>\n",
       "    <tr>\n",
       "      <th>5919</th>\n",
       "      <td>spamassassintalkadminlistssourceforgenet fri a...</td>\n",
       "      <td>0</td>\n",
       "    </tr>\n",
       "  </tbody>\n",
       "</table>\n",
       "</div>"
      ],
      "text/plain": [
       "                                                   Text Label\n",
       "3018  ilugadminlinuxi tue aug returnpath ilugadminli...     0\n",
       "54    forkadminxentcom tue aug returnpath forkadminx...     0\n",
       "4372  protect financi well purchas extend auto warra...     1\n",
       "4433  senttozzzzspamassassintaintorgreturnsgroupsyah...     0\n",
       "5919  spamassassintalkadminlistssourceforgenet fri a...     0"
      ]
     },
     "execution_count": 18,
     "metadata": {},
     "output_type": "execute_result"
    }
   ],
   "source": [
    "# Filtering the DataFrame for 'spam' and 'ham' samples\n",
    "ham_samples = data[data['Label'] == 0 ]\n",
    "spam_samples = data[data['Label'] == 1 ]\n",
    "\n",
    "#Adjusting the sample size to balance the dataset\n",
    "spam_sample_size = min(3000, len(spam_samples))\n",
    "ham_sample_size = min(3000, len(ham_samples))\n",
    "\n",
    "#Randomly selection of samples\n",
    "ham_samples = ham_samples.sample(n=ham_sample_size, random_state=42)\n",
    "spam_samples = spam_samples.sample(n=spam_sample_size, random_state=42)\n",
    "\n",
    "#Concatenating the samples\n",
    "balanced_data = pd.concat([spam_samples, ham_samples], ignore_index=True)\n",
    "\n",
    "#Shuffling the data\n",
    "balanced_data = balanced_data.sample(frac=1, random_state=42).reset_index(drop=True)\n",
    "\n",
    "#Displaying sampled data\n",
    "balanced_data.sample(5)"
   ]
  },
  {
   "cell_type": "code",
   "execution_count": 19,
   "id": "0faa3fa5",
   "metadata": {},
   "outputs": [
    {
     "data": {
      "image/png": "[encoded data removed]",
      "text/plain": [
       "<Figure size 432x288 with 1 Axes>"
      ]
     },
     "metadata": {
      "needs_background": "light"
     },
     "output_type": "display_data"
    }
   ],
   "source": [
    "#Getting label count values to create a bar plot\n",
    "label_count = balanced_data['Label'].value_counts()\n",
    "\n",
    "#Selecting colors for our bar\n",
    "colors = ['blue', 'orange']\n",
    "\n",
    "#Creating a bar plot\n",
    "plt.bar(label_count.index, label_count.values,color = colors)\n",
    "\n",
    "#Adding title and labels\n",
    "plt.xlabel('Label')\n",
    "plt.ylabel('Count')\n",
    "plt.title('Distribution of Labels',fontweight= 'bold')\n",
    "\n",
    "# Adjust the x-axis tick positions\n",
    "plt.xticks(range(len(label_count)), label_count.index)\n",
    "\n",
    "# Add labels on the bars\n",
    "for i, count in enumerate(label_count.values):\n",
    "    plt.text(i, count, str(count), ha='center', va='bottom')\n",
    "\n",
    "#Displaying the plot\n",
    "plt.show()"
   ]
  },
  {
   "cell_type": "markdown",
   "id": "a7a93835",
   "metadata": {},
   "source": [
    "Now,we have a balanced data."
   ]
  },
  {
   "cell_type": "markdown",
   "id": "8579bad6",
   "metadata": {},
   "source": [
    "## NB Classifier"
   ]
  },
  {
   "cell_type": "code",
   "execution_count": 20,
   "id": "57570726",
   "metadata": {},
   "outputs": [],
   "source": [
    "#Importing model libraries\n",
    "from sklearn.feature_extraction.text import CountVectorizer\n",
    "from sklearn.naive_bayes import MultinomialNB\n",
    "from sklearn.metrics import accuracy_score, classification_report\n",
    "from sklearn.model_selection import train_test_split\n",
    "from sklearn.metrics import confusion_matrix\n"
   ]
  },
  {
   "cell_type": "code",
   "execution_count": 21,
   "id": "61372601",
   "metadata": {},
   "outputs": [],
   "source": [
    "#Splitting our data into train and test data.\n",
    "X = balanced_data['Text']\n",
    "y = balanced_data['Label']\n",
    "X_train, X_test, y_train, y_test = train_test_split(X, y, test_size=0.2, random_state=42)"
   ]
  },
  {
   "cell_type": "code",
   "execution_count": 22,
   "id": "ec8c8b13",
   "metadata": {},
   "outputs": [
    {
     "name": "stdout",
     "output_type": "stream",
     "text": [
      "Accuracy: 0.9641666666666666\n",
      "Classification Report:\n",
      "              precision    recall  f1-score   support\n",
      "\n",
      "           0       0.95      0.98      0.96       586\n",
      "           1       0.98      0.95      0.96       614\n",
      "\n",
      "    accuracy                           0.96      1200\n",
      "   macro avg       0.96      0.96      0.96      1200\n",
      "weighted avg       0.96      0.96      0.96      1200\n",
      "\n"
     ]
    }
   ],
   "source": [
    "#Feature extraction\n",
    "vectorizer = CountVectorizer()\n",
    "X_train_features = vectorizer.fit_transform(X_train)\n",
    "X_test_features = vectorizer.transform(X_test)\n",
    "\n",
    "#Training the classifier\n",
    "classifier = MultinomialNB()\n",
    "classifier.fit(X_train_features, y_train)\n",
    "\n",
    "#Classification Report And prediction\n",
    "y_pred = classifier.predict(X_test_features)\n",
    "accuracy = accuracy_score(y_test, y_pred)\n",
    "report = classification_report(y_test, y_pred)\n",
    "\n",
    "#Printing the accuracy and reports\n",
    "print('Accuracy:', accuracy)\n",
    "print('Classification Report:')\n",
    "print(report)\n"
   ]
  },
  {
   "cell_type": "code",
   "execution_count": 23,
   "id": "4e84474d",
   "metadata": {},
   "outputs": [
    {
     "name": "stdout",
     "output_type": "stream",
     "text": [
      "0.9884270324954697\n"
     ]
    }
   ],
   "source": [
    "from sklearn.metrics import roc_curve, roc_auc_score\n",
    "y_pred_prob = classifier.predict_proba(X_test_features)[:, 1]\n",
    "fpr, tpr, thresholds = roc_curve(y_test, y_pred_prob)\n",
    "auc = roc_auc_score(y_test, y_pred_prob)\n",
    "print(auc)"
   ]
  },
  {
   "cell_type": "code",
   "execution_count": 24,
   "id": "9379ac3c",
   "metadata": {},
   "outputs": [
    {
     "data": {
      "image/png": "[encoded data removed]",
      "text/plain": [
       "<Figure size 432x288 with 1 Axes>"
      ]
     },
     "metadata": {
      "needs_background": "light"
     },
     "output_type": "display_data"
    }
   ],
   "source": [
    "plt.plot(fpr, tpr, label='ROC curve (AUC = {:.2f})'.format(auc))\n",
    "plt.plot([0, 1], [0, 1], 'k--')  # Plotting the diagonal line for reference\n",
    "plt.xlabel('False Positive Rate')\n",
    "plt.ylabel('True Positive Rate')\n",
    "plt.title('Receiver Operating Characteristic (ROC) Curve')\n",
    "plt.legend()\n",
    "plt.show()"
   ]
  },
  {
   "cell_type": "code",
   "execution_count": 25,
   "id": "2c1e11d3",
   "metadata": {},
   "outputs": [
    {
     "name": "stdout",
     "output_type": "stream",
     "text": [
      "Confusion Matrix: \n",
      " [[576  10]\n",
      " [ 33 581]]\n"
     ]
    },
    {
     "data": {
      "image/png": "[encoded data removed]",
      "text/plain": [
       "<Figure size 432x288 with 2 Axes>"
      ]
     },
     "metadata": {
      "needs_background": "light"
     },
     "output_type": "display_data"
    }
   ],
   "source": [
    "#Computing the confusion matrix\n",
    "cm = confusion_matrix(y_test, y_pred)\n",
    "print('Confusion Matrix: \\n',cm)\n",
    "#Creating a heatmap \n",
    "sns.heatmap(cm, annot=True, fmt=\"d\", cmap=\"Blues\")\n",
    "plt.title(\"Confusion Matrix\")\n",
    "plt.xticks([0, 1], [\"ham\", \"spam\"])\n",
    "plt.yticks([0, 1], [\"ham\", \"spam\"])\n",
    "plt.show()"
   ]
  },
  {
   "cell_type": "markdown",
   "id": "fe4cc936",
   "metadata": {},
   "source": [
    "**Findings:**\n",
    "* The model correctly classified 576 instances as spam (True Positives).\n",
    "* The model correctly classified 581 instances as ham (True Negatives).\n",
    "* The model incorrectly classified 10 instances as spam when they were actually ham (False Positives).\n",
    "* The model incorrectly classified 33 instances as ham when they were actually spam (False Negatives)."
   ]
  },
  {
   "cell_type": "markdown",
   "id": "2ed69eba",
   "metadata": {},
   "source": [
    "**Function to predict the text for NB Classifier**"
   ]
  },
  {
   "cell_type": "code",
   "execution_count": 26,
   "id": "dadc63a7",
   "metadata": {},
   "outputs": [],
   "source": [
    "#Creating a prediction function and predicting if its spam or ham.\n",
    "def predict_out(text):\n",
    "    #Preprocessing the custom text\n",
    "    preprocessed_text = normalize_text(text)\n",
    "    #Vectorizing the custom text using the same vectorizer used during training\n",
    "    custom_text_features = vectorizer.transform([preprocessed_text])\n",
    "    #Making predictions\n",
    "    predicted_label = classifier.predict(custom_text_features)\n",
    "    #Showing the pridiction\n",
    "    if predicted_label == 0:\n",
    "        prediction = \"ham\"\n",
    "    else:\n",
    "        prediction = \"spam\"\n",
    "    print(\"This is a\", prediction,'email.')"
   ]
  },
  {
   "cell_type": "code",
   "execution_count": 27,
   "id": "aea53734",
   "metadata": {},
   "outputs": [
    {
     "name": "stdout",
     "output_type": "stream",
     "text": [
      "This is a spam email.\n"
     ]
    }
   ],
   "source": [
    "#Prediction input 1\n",
    "custom_text1 = 'This is to inform you have won a lottery and the subscription will end in a week so call us. '\n",
    "predict_out(custom_text1)"
   ]
  },
  {
   "cell_type": "code",
   "execution_count": 28,
   "id": "dbe6d84f",
   "metadata": {},
   "outputs": [
    {
     "name": "stdout",
     "output_type": "stream",
     "text": [
      "This is a ham email.\n"
     ]
    }
   ],
   "source": [
    "#Prediction input 2\n",
    "custom_text2 = 'I will see you at work on Wednesday.'\n",
    "predict_out(custom_text2)"
   ]
  },
  {
   "cell_type": "code",
   "execution_count": 29,
   "id": "1df3b930",
   "metadata": {},
   "outputs": [
    {
     "name": "stdout",
     "output_type": "stream",
     "text": [
      "This is a ham email.\n"
     ]
    }
   ],
   "source": [
    "custom_text3 = \"I hope this email finds you well. You can start working full-time from Monday onwards. Sorry for the late reply.\"\n",
    "predict_out(custom_text3)"
   ]
  },
  {
   "cell_type": "markdown",
   "id": "6740f5fd",
   "metadata": {},
   "source": [
    "## LSTM"
   ]
  },
  {
   "cell_type": "code",
   "execution_count": 30,
   "id": "9c2370fe",
   "metadata": {},
   "outputs": [],
   "source": [
    "from tensorflow.keras.models import Sequential  # Sequential model\n",
    "from tensorflow.keras.layers import LSTM, Dropout, Dense, Embedding  # Layers for building models\n",
    "from keras.preprocessing.text import Tokenizer\n",
    "from tensorflow.keras.preprocessing.sequence import pad_sequences\n",
    "from tensorflow.keras.preprocessing.text import one_hot\n",
    "import tensorflow as tf  # Deep learning framework\n",
    "from tensorflow.keras.optimizers import Adam  # Optimization algorithm\n",
    "from tensorflow.keras.callbacks import EarlyStopping  # Early stopping for model training\n",
    "import random\n",
    "import textwrap"
   ]
  },
  {
   "cell_type": "code",
   "execution_count": 31,
   "id": "4d56b7d5",
   "metadata": {},
   "outputs": [],
   "source": [
    "# Preprocessed text data\n",
    "texts = balanced_data['Text'].values\n",
    "\n",
    "# Vocabulary size\n",
    "vocab_size = 10000  # Specify the desired vocabulary size\n",
    "\n",
    "# One-hot encoding the text data\n",
    "encoded_texts = [one_hot(text, vocab_size) for text in texts]\n"
   ]
  },
  {
   "cell_type": "code",
   "execution_count": 32,
   "id": "33b8e6a9",
   "metadata": {},
   "outputs": [
    {
     "data": {
      "text/plain": [
       "count                                                  6000\n",
       "unique                                                 5459\n",
       "top       creditfix thank email address obtain purchas l...\n",
       "freq                                                      8\n",
       "Name: Text, dtype: object"
      ]
     },
     "execution_count": 32,
     "metadata": {},
     "output_type": "execute_result"
    }
   ],
   "source": [
    "balanced_data['Text'].describe().T"
   ]
  },
  {
   "cell_type": "code",
   "execution_count": 33,
   "id": "f2288fd9",
   "metadata": {},
   "outputs": [],
   "source": [
    "sentence_len = 300\n",
    "embedded_doc = pad_sequences(\n",
    "    encoded_texts,\n",
    "    maxlen = sentence_len,\n",
    "    padding=\"pre\"\n",
    ")"
   ]
  },
  {
   "cell_type": "code",
   "execution_count": 34,
   "id": "0d586baf",
   "metadata": {},
   "outputs": [],
   "source": [
    "extract_features = pd.DataFrame(\n",
    "    data = embedded_doc\n",
    ")\n",
    "target=balanced_data[\"Label\"]"
   ]
  },
  {
   "cell_type": "code",
   "execution_count": 35,
   "id": "ab647978",
   "metadata": {},
   "outputs": [],
   "source": [
    "df_final = pd.concat([extract_features,target],axis=1)"
   ]
  },
  {
   "cell_type": "code",
   "execution_count": 36,
   "id": "1eeba602",
   "metadata": {},
   "outputs": [],
   "source": [
    "X = df_final.drop(\"Label\",axis=1)\n",
    "y = df_final[\"Label\"]"
   ]
  },
  {
   "cell_type": "code",
   "execution_count": 37,
   "id": "52422950",
   "metadata": {},
   "outputs": [],
   "source": [
    "X_train_val,X_test,y_train_val,y_test = train_test_split(X, y, random_state=42, test_size=0.45)\n",
    "\n",
    "X_train, X_val, y_train, y_val = train_test_split(X_train_val, y_train_val, random_state=42, test_size=0.50)"
   ]
  },
  {
   "cell_type": "code",
   "execution_count": 38,
   "id": "e241a5d4",
   "metadata": {},
   "outputs": [
    {
     "name": "stdout",
     "output_type": "stream",
     "text": [
      "Epoch 1/15\n",
      "52/52 [==============================] - 126s 2s/step - loss: 0.3770 - accuracy: 0.8685 - val_loss: 0.1007 - val_accuracy: 0.9673\n",
      "Epoch 2/15\n",
      "52/52 [==============================] - 117s 2s/step - loss: 0.0482 - accuracy: 0.9855 - val_loss: 0.0843 - val_accuracy: 0.9679\n",
      "Epoch 3/15\n",
      "52/52 [==============================] - 112s 2s/step - loss: 0.0111 - accuracy: 0.9964 - val_loss: 0.0949 - val_accuracy: 0.9818\n",
      "Epoch 4/15\n",
      "52/52 [==============================] - 112s 2s/step - loss: 0.0022 - accuracy: 0.9988 - val_loss: 0.0987 - val_accuracy: 0.9758\n",
      "Epoch 5/15\n",
      "52/52 [==============================] - 114s 2s/step - loss: 0.0011 - accuracy: 0.9994 - val_loss: 0.1059 - val_accuracy: 0.9800\n",
      "Epoch 6/15\n",
      "52/52 [==============================] - 114s 2s/step - loss: 7.3339e-04 - accuracy: 1.0000 - val_loss: 0.1149 - val_accuracy: 0.9800\n",
      "Epoch 7/15\n",
      "52/52 [==============================] - 113s 2s/step - loss: 5.2477e-04 - accuracy: 1.0000 - val_loss: 0.1213 - val_accuracy: 0.9794\n",
      "Epoch 8/15\n",
      "52/52 [==============================] - 112s 2s/step - loss: 3.2808e-04 - accuracy: 1.0000 - val_loss: 0.1242 - val_accuracy: 0.9794\n",
      "85/85 [==============================] - 35s 410ms/step - loss: 0.1103 - accuracy: 0.9563\n",
      "Loss: 0.11025378108024597\n",
      "Accuracy: 0.9562963247299194\n"
     ]
    }
   ],
   "source": [
    "#Defining the model\n",
    "lstm_model = Sequential()\n",
    "feature_num = 1000\n",
    "lstm_model.add(Embedding(input_dim=vocab_size, output_dim=feature_num, input_length=sentence_len))\n",
    "lstm_model.add(LSTM(units=128))\n",
    "lstm_model.add(Dropout(0.4))\n",
    "lstm_model.add(Dense(units=80, activation='relu'))\n",
    "lstm_model.add(Dense(units=50, activation='relu'))\n",
    "lstm_model.add(Dense(units=1, activation='sigmoid'))\n",
    "\n",
    "# Compile the model\n",
    "lstm_model.compile(optimizer=Adam(learning_rate=0.001), loss='binary_crossentropy', metrics=['accuracy'])\n",
    "\n",
    "# Set up early stopping callback\n",
    "early_stopping = EarlyStopping(monitor='val_loss', patience=6, restore_best_weights=True)\n",
    "\n",
    "# Train the model with tuning options\n",
    "history = lstm_model.fit(X_train, y_train, validation_data=(X_val, y_val),\n",
    "                    epochs=15, batch_size=32, callbacks=[early_stopping])\n",
    "\n",
    "# Evaluate the model on the test data\n",
    "loss, accuracy = lstm_model.evaluate(X_test, y_test)\n",
    "\n",
    "# Print the loss and accuracy obtained\n",
    "print(\"Loss:\", loss)\n",
    "print(\"Accuracy:\", accuracy)"
   ]
  },
  {
   "cell_type": "code",
   "execution_count": 39,
   "id": "4d8a3d50",
   "metadata": {},
   "outputs": [
    {
     "name": "stdout",
     "output_type": "stream",
     "text": [
      "85/85 [==============================] - 35s 407ms/step\n"
     ]
    }
   ],
   "source": [
    "y_pred = lstm_model.predict(X_test)\n",
    "y_pred = [1 if pred >= 0.5 else 0 for pred in y_pred]"
   ]
  },
  {
   "cell_type": "code",
   "execution_count": 40,
   "id": "cbebfbac",
   "metadata": {},
   "outputs": [
    {
     "name": "stdout",
     "output_type": "stream",
     "text": [
      "Test Score:95.63%\n",
      "              precision    recall  f1-score   support\n",
      "\n",
      "           0       0.96      0.95      0.96      1351\n",
      "           1       0.95      0.96      0.96      1349\n",
      "\n",
      "    accuracy                           0.96      2700\n",
      "   macro avg       0.96      0.96      0.96      2700\n",
      "weighted avg       0.96      0.96      0.96      2700\n",
      "\n",
      "Confusion Matrix: \n",
      " [[1288   63]\n",
      " [  55 1294]]\n"
     ]
    },
    {
     "data": {
      "image/png": "[encoded data removed]",
      "text/plain": [
       "<Figure size 432x288 with 2 Axes>"
      ]
     },
     "metadata": {
      "needs_background": "light"
     },
     "output_type": "display_data"
    }
   ],
   "source": [
    "score=accuracy_score(y_test,y_pred)\n",
    "print(\"Test Score:{:.2f}%\".format(score*100))\n",
    "\n",
    "# Print the classification report\n",
    "print(classification_report(y_test, y_pred))\n",
    "\n",
    "#Computing the confusion matrix\n",
    "cm = confusion_matrix(y_test, y_pred)\n",
    "\n",
    "print('Confusion Matrix: \\n',cm)\n",
    "\n",
    "#Creating a heatmap \n",
    "sns.heatmap(cm, annot=True, fmt=\"d\", cmap=\"Blues\")\n",
    "plt.title(\"Confusion Matrix\")\n",
    "plt.xticks([0, 1], [\"ham\", \"spam\"])\n",
    "plt.yticks([0, 1], [\"ham\", \"spam\"])\n",
    "plt.show()"
   ]
  },
  {
   "cell_type": "markdown",
   "id": "3ee317fb",
   "metadata": {},
   "source": [
    "**Predicting output for LSTM**"
   ]
  },
  {
   "cell_type": "code",
   "execution_count": 41,
   "id": "fe950e29",
   "metadata": {},
   "outputs": [],
   "source": [
    "#Creating a prediction function and predicting if its spam or ham.\n",
    "def predict_out_lstm(text):\n",
    "    #Preprocessing the custom text\n",
    "    preprocessed_text = normalize_text(text)\n",
    "    #Vectorizing the custom text using the same vectorizer used during training\n",
    "    custom_text_features = vectorizer.transform([preprocessed_text])\n",
    "  # Perform one-hot encoding on the processed sentences\n",
    "    one_hot_encodings = [one_hot(text, n=vocab_size) for sentence in custom_text_features]\n",
    "\n",
    "    # Pad the sequences to have the same length\n",
    "    padded_sequences = pad_sequences(one_hot_encodings, maxlen=sentence_len, padding='pre')\n",
    "    \n",
    "    # Predict the label for the text using the model\n",
    "    predicted_label = lstm_model.predict(padded_sequences)\n",
    "    \n",
    "    #Showing the pridiction\n",
    "    if predicted_label <=0.5:\n",
    "        prediction = \"ham\"\n",
    "    else:\n",
    "        prediction = \"spam\"\n",
    "    print(\"This is a\", prediction,'email.')"
   ]
  },
  {
   "cell_type": "code",
   "execution_count": 42,
   "id": "5441510e",
   "metadata": {},
   "outputs": [
    {
     "name": "stdout",
     "output_type": "stream",
     "text": [
      "1/1 [==============================] - 0s 47ms/step\n",
      "This is a spam email.\n"
     ]
    }
   ],
   "source": [
    "#Prediction input 1\n",
    "custom_text1 = 'This is to inform you have won a lottery and the subscription will end in a week so call us. '\n",
    "predict_out_lstm(custom_text1)"
   ]
  },
  {
   "cell_type": "code",
   "execution_count": 43,
   "id": "85ceaa25",
   "metadata": {},
   "outputs": [
    {
     "name": "stdout",
     "output_type": "stream",
     "text": [
      "1/1 [==============================] - 0s 41ms/step\n",
      "This is a ham email.\n"
     ]
    }
   ],
   "source": [
    "#Prediction input 2\n",
    "custom_text2 = 'Hello! Good to see you.You can join review session on Wednesday.'\n",
    "predict_out_lstm(custom_text2)"
   ]
  },
  {
   "cell_type": "code",
   "execution_count": 44,
   "id": "39322a6f",
   "metadata": {
    "scrolled": true
   },
   "outputs": [
    {
     "name": "stdout",
     "output_type": "stream",
     "text": [
      "1/1 [==============================] - 0s 45ms/step\n",
      "This is a ham email.\n"
     ]
    }
   ],
   "source": [
    "#Prediction input 3\n",
    "message1 = \"I hope this email finds you well. You can start working full-time from Monday onwards. Sorry for the late reply.\"\n",
    "predict_out_lstm(message1)"
   ]
  },
  {
   "cell_type": "markdown",
   "id": "0b319f4d",
   "metadata": {},
   "source": [
    "## Conclusion"
   ]
  },
  {
   "cell_type": "markdown",
   "id": "b6275542",
   "metadata": {},
   "source": [
    "Our spam and ham detection project has yielded good results with the implementation of two distinct models: Naive Bayes (NB) Classifier and Long Short-Term Memory (LSTM) model. We achieved an accuracy of 96 % for NB and 95 % for LSTM.\n"
   ]
  },
  {
   "cell_type": "markdown",
   "id": "fb1fe511",
   "metadata": {},
   "source": [
    "These high accuracy scores indicate that both models are effective at correctly classifying emails as either spam or ham, showcasing their ability to differentiate between legitimate and unwanted messages. The fact that both models predicted the correct labels further emphasizes their reliability and consistency in handling this classification task."
   ]
  },
  {
   "cell_type": "markdown",
   "id": "9779d7b1",
   "metadata": {},
   "source": [
    "It's essential to consider not only accuracy but also other metrics such as precision, recall, and F1-score, depending on the specific requirements and objectives of the spam detection system. Additionally, real-world performance and generalization to unseen data should be assessed to ensure the models maintain their effectiveness in a practical setting."
   ]
  },
  {
   "cell_type": "markdown",
   "id": "8361ca24",
   "metadata": {},
   "source": [
    "In summary, our project demonstrates that both the NB Classifier and LSTM model are valuable tools for spam and ham email detection, offering high accuracy and reliable predictions. Future work may involve fine-tuning these models, exploring ensemble methods, or incorporating additional features to further enhance their performance in tackling the ongoing challenge of email spam."
   ]
  },
  {
   "cell_type": "code",
   "execution_count": null,
   "id": "7fcd0d62",
   "metadata": {},
   "outputs": [],
   "source": []
  }
 ],
 "metadata": {
  "kernelspec": {
   "display_name": "Python 3 (ipykernel)",
   "language": "python",
   "name": "python3"
  },
  "language_info": {
   "codemirror_mode": {
    "name": "ipython",
    "version": 3
   },
   "file_extension": ".py",
   "mimetype": "text/x-python",
   "name": "python",
   "nbconvert_exporter": "python",
   "pygments_lexer": "ipython3",
   "version": "3.9.12"
  }
 },
 "nbformat": 4,
 "nbformat_minor": 5
}
