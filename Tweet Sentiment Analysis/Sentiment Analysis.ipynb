{
 "cells": [
  {
   "cell_type": "markdown",
   "metadata": {},
   "source": [
    "# Twitter Sentiment Analysis Project\n",
    "\n",
    "## Overview\n",
    "This project focuses on performing sentiment analysis on Twitter data to accurately predict the sentiment of tweets as positive, negative, or neutral. We have explored two distinct machine learning approaches: Support Vector Machine (SVM) with TF-IDF features and Long Short-Term Memory (LSTM) using one-hot encoding.\n",
    "\n",
    "## Approach\n",
    "\n",
    "### SVM with TF-IDF\n",
    "The first approach employs the Support Vector Machine (SVM) classifier, leveraging the TF-IDF (Term Frequency-Inverse Document Frequency) vectorization technique. TF-IDF aids in converting each tweet into a numerical vector, effectively capturing the significance of words within the tweet relative to the entire dataset.\n",
    "\n",
    "#### Model Performance\n",
    "- Training Accuracy: 95.39%\n",
    "- Validation Accuracy: 72.58%\n",
    "\n",
    "### LSTM with One-Hot Encoding\n",
    "The second approach harnesses the power of Long Short-Term Memory (LSTM) networks, a form of recurrent neural network (RNN), to discern intricate patterns within the sequential nature of tweets. The textual data is represented using one-hot encoding, which transforms words into unique binary vectors.\n",
    "\n",
    "#### Model Performance\n",
    "- Training Accuracy: 99.00%\n",
    "- Test Accuracy: 71.00%\n",
    "\n",
    "## Results and Insights\n",
    "- The SVM model exhibits commendable performance on the training data, achieving an impressive accuracy of 95.39%. However, there is a noticeable drop in accuracy on the validation set, indicating potential overfitting.\n",
    "- The LSTM model showcases remarkable training accuracy of 99.00%, emphasizing its capacity to capture complex sequential patterns within text. Nonetheless, the test accuracy of 71.00% suggests a certain degree of overfitting, necessitating further investigation and refinement.\n",
    "- It is evident that the choice of features and model architectures significantly influences model performance. While the SVM model with TF-IDF performs better in terms of validation accuracy, the LSTM model demonstrates promise in comprehending the inherent sequential characteristics of text data.\n",
    "\n",
    "## Conclusion\n",
    "In this project, we have delved into two distinct methodologies for sentiment analysis on Twitter data. The SVM model, coupled with TF-IDF features, emerges as a robust performer, particularly in terms of validation accuracy. In contrast, the LSTM model, while achieving remarkable training accuracy, requires meticulous optimization to address overfitting and heighten its ability to generalize. This endeavor underscores the criticality of adeptly selecting features and models for tasks in natural language processing. Moving forward, this project serves as a stepping stone for refining sentiment analysis techniques and enhancing the precision of sentiment predictions for Twitter data.\n"
   ]
  },
  {
   "cell_type": "markdown",
   "metadata": {
    "id": "hXbSpwXpTL2L"
   },
   "source": [
    "### Importing the necessary libraries"
   ]
  },
  {
   "cell_type": "code",
   "execution_count": 39,
   "metadata": {
    "id": "_Hn-K7zXTH-G"
   },
   "outputs": [],
   "source": [
    "# Data Manipulation\n",
    "import pandas as pd\n",
    "\n",
    "# Regular Expression\n",
    "import re\n",
    "import string\n",
    "\n",
    "# Import Nltk libraries\n",
    "import nltk\n",
    "from nltk.corpus import stopwords\n",
    "from nltk.tokenize import word_tokenize\n",
    "from nltk.stem import WordNetLemmatizer\n",
    "\n",
    "# Plot the Graphs\n",
    "import seaborn as sns\n",
    "import matplotlib.pyplot as plt\n",
    "\n",
    "#Ignore the warnings\n",
    "import warnings\n",
    "warnings.filterwarnings(\"ignore\")"
   ]
  },
  {
   "cell_type": "markdown",
   "metadata": {
    "id": "C1dP3SbYTVvi"
   },
   "source": [
    "### Data loading"
   ]
  },
  {
   "cell_type": "code",
   "execution_count": 40,
   "metadata": {
    "id": "mkvlEuJteZvV"
   },
   "outputs": [],
   "source": [
    "# upgrading pandas\n",
    "# !pip install --upgrade pandas"
   ]
  },
  {
   "cell_type": "code",
   "execution_count": 41,
   "metadata": {
    "id": "X7hYyh5IYjHD"
   },
   "outputs": [],
   "source": [
    "# Loading the data\n",
    "data = pd.read_csv('sentiment_tweets_2022.csv', dtype_backend='pyarrow')"
   ]
  },
  {
   "cell_type": "code",
   "execution_count": 42,
   "metadata": {
    "colab": {
     "base_uri": "https://localhost:8080/",
     "height": 577
    },
    "id": "hlqBlyw_Y4-6",
    "outputId": "c0806883-87ec-4fbd-975c-c86a12af62d2"
   },
   "outputs": [
    {
     "data": {
      "text/html": [
       "<div>\n",
       "<style scoped>\n",
       "    .dataframe tbody tr th:only-of-type {\n",
       "        vertical-align: middle;\n",
       "    }\n",
       "\n",
       "    .dataframe tbody tr th {\n",
       "        vertical-align: top;\n",
       "    }\n",
       "\n",
       "    .dataframe thead th {\n",
       "        text-align: right;\n",
       "    }\n",
       "</style>\n",
       "<table border=\"1\" class=\"dataframe\">\n",
       "  <thead>\n",
       "    <tr style=\"text-align: right;\">\n",
       "      <th></th>\n",
       "      <th>Unnamed: 0</th>\n",
       "      <th>User</th>\n",
       "      <th>User_Location</th>\n",
       "      <th>Followers_Count</th>\n",
       "      <th>User_Created</th>\n",
       "      <th>User_Description</th>\n",
       "      <th>User_Statuses_Count</th>\n",
       "      <th>Tweet_Date</th>\n",
       "      <th>Num_Likes</th>\n",
       "      <th>Num_Retweets</th>\n",
       "      <th>...</th>\n",
       "      <th>Tweet_Source</th>\n",
       "      <th>Tweet</th>\n",
       "      <th>Sentiment</th>\n",
       "      <th>Cleaned_Tweet</th>\n",
       "      <th>Pos_Tags</th>\n",
       "      <th>Adjectives</th>\n",
       "      <th>Nouns</th>\n",
       "      <th>Verbs</th>\n",
       "      <th>Named Entities</th>\n",
       "      <th>All Entities</th>\n",
       "    </tr>\n",
       "  </thead>\n",
       "  <tbody>\n",
       "    <tr>\n",
       "      <th>0</th>\n",
       "      <td>0</td>\n",
       "      <td>Pucci1989Mon</td>\n",
       "      <td>&lt;NA&gt;</td>\n",
       "      <td>1790.0</td>\n",
       "      <td>2015-11-17 19:18:54+00:00</td>\n",
       "      <td>Most of my Tweets are an attempt at sarcasm …S...</td>\n",
       "      <td>35828.0</td>\n",
       "      <td>2023-01-30 17:34:45+00:00</td>\n",
       "      <td>0.0</td>\n",
       "      <td>0.0</td>\n",
       "      <td>...</td>\n",
       "      <td>Twitter Web App</td>\n",
       "      <td>@_angelica_toy Happy Anniversary!!!....The Day...</td>\n",
       "      <td>0.2444</td>\n",
       "      <td>_angelica_toy Happy Anniversary!!!    The Day ...</td>\n",
       "      <td>[('_angelica_toy', 'NN'), ('Happy', 'NNP'), ('...</td>\n",
       "      <td>['\"American']</td>\n",
       "      <td>['_angelica_toy', 'Happy', 'Anniversary!!!', '...</td>\n",
       "      <td>['', '(In']</td>\n",
       "      <td>[('Anniversary', 'DATE'), ('The Day', 'DATE'),...</td>\n",
       "      <td>['Anniversary', 'The Day', \"Don McLean's\", 'Am...</td>\n",
       "    </tr>\n",
       "    <tr>\n",
       "      <th>1</th>\n",
       "      <td>1</td>\n",
       "      <td>Pucci1989Mon</td>\n",
       "      <td>&lt;NA&gt;</td>\n",
       "      <td>1790.0</td>\n",
       "      <td>2015-11-17 19:18:54+00:00</td>\n",
       "      <td>Most of my Tweets are an attempt at sarcasm …S...</td>\n",
       "      <td>35828.0</td>\n",
       "      <td>2023-01-30 17:34:33+00:00</td>\n",
       "      <td>0.0</td>\n",
       "      <td>0.0</td>\n",
       "      <td>...</td>\n",
       "      <td>Twitter Web App</td>\n",
       "      <td>@McfarlaneGlenda Happy Anniversary!!!....The D...</td>\n",
       "      <td>0.2444</td>\n",
       "      <td>McfarlaneGlenda Happy Anniversary!!!    The Da...</td>\n",
       "      <td>[('McfarlaneGlenda', 'NNP'), ('Happy', 'NNP'),...</td>\n",
       "      <td>['\"American']</td>\n",
       "      <td>['McfarlaneGlenda', 'Happy', 'Anniversary!!!',...</td>\n",
       "      <td>['', '(In']</td>\n",
       "      <td>[('McfarlaneGlenda', 'ORG'), ('Anniversary', '...</td>\n",
       "      <td>['McfarlaneGlenda', 'Anniversary', 'The Day', ...</td>\n",
       "    </tr>\n",
       "    <tr>\n",
       "      <th>2</th>\n",
       "      <td>2</td>\n",
       "      <td>Pucci1989Mon</td>\n",
       "      <td>&lt;NA&gt;</td>\n",
       "      <td>1790.0</td>\n",
       "      <td>2015-11-17 19:18:54+00:00</td>\n",
       "      <td>Most of my Tweets are an attempt at sarcasm …S...</td>\n",
       "      <td>35828.0</td>\n",
       "      <td>2023-01-30 17:34:24+00:00</td>\n",
       "      <td>0.0</td>\n",
       "      <td>0.0</td>\n",
       "      <td>...</td>\n",
       "      <td>Twitter Web App</td>\n",
       "      <td>@thevivafrei @JustinTrudeau Happy Anniversary!...</td>\n",
       "      <td>0.2444</td>\n",
       "      <td>thevivafrei JustinTrudeau Happy Anniversary!!!...</td>\n",
       "      <td>[('thevivafrei', 'NN'), ('JustinTrudeau', 'NNP...</td>\n",
       "      <td>['\"American']</td>\n",
       "      <td>['thevivafrei', 'JustinTrudeau', 'Happy', 'Ann...</td>\n",
       "      <td>['', '(In']</td>\n",
       "      <td>[('thevivafrei JustinTrudeau', 'PERSON'), ('Th...</td>\n",
       "      <td>['thevivafrei JustinTrudeau', 'The Day', \"Don ...</td>\n",
       "    </tr>\n",
       "    <tr>\n",
       "      <th>3</th>\n",
       "      <td>3</td>\n",
       "      <td>Pucci1989Mon</td>\n",
       "      <td>&lt;NA&gt;</td>\n",
       "      <td>1790.0</td>\n",
       "      <td>2015-11-17 19:18:54+00:00</td>\n",
       "      <td>Most of my Tweets are an attempt at sarcasm …S...</td>\n",
       "      <td>35828.0</td>\n",
       "      <td>2023-01-30 17:34:15+00:00</td>\n",
       "      <td>0.0</td>\n",
       "      <td>0.0</td>\n",
       "      <td>...</td>\n",
       "      <td>Twitter Web App</td>\n",
       "      <td>@NChartierET Happy Anniversary!!!....The Day t...</td>\n",
       "      <td>0.2444</td>\n",
       "      <td>NChartierET Happy Anniversary!!!    The Day th...</td>\n",
       "      <td>[('NChartierET', 'NNP'), ('Happy', 'NNP'), ('A...</td>\n",
       "      <td>['\"American']</td>\n",
       "      <td>['NChartierET', 'Happy', 'Anniversary!!!', '',...</td>\n",
       "      <td>['', '(In']</td>\n",
       "      <td>[('NChartierET', 'PERSON'), ('Anniversary', 'D...</td>\n",
       "      <td>['NChartierET', 'Anniversary', 'The Day', \"Don...</td>\n",
       "    </tr>\n",
       "    <tr>\n",
       "      <th>4</th>\n",
       "      <td>4</td>\n",
       "      <td>Pucci1989Mon</td>\n",
       "      <td>&lt;NA&gt;</td>\n",
       "      <td>1790.0</td>\n",
       "      <td>2015-11-17 19:18:54+00:00</td>\n",
       "      <td>Most of my Tweets are an attempt at sarcasm …S...</td>\n",
       "      <td>35828.0</td>\n",
       "      <td>2023-01-30 17:33:59+00:00</td>\n",
       "      <td>0.0</td>\n",
       "      <td>0.0</td>\n",
       "      <td>...</td>\n",
       "      <td>Twitter Web App</td>\n",
       "      <td>@tabithapeters05 Happy Anniversary!!!....The D...</td>\n",
       "      <td>0.2444</td>\n",
       "      <td>tabithapeters05 Happy Anniversary!!!    The Da...</td>\n",
       "      <td>[('tabithapeters05', 'NN'), ('Happy', 'NNP'), ...</td>\n",
       "      <td>['\"American']</td>\n",
       "      <td>['tabithapeters05', 'Happy', 'Anniversary!!!',...</td>\n",
       "      <td>['', '(In']</td>\n",
       "      <td>[('The Day', 'DATE'), (\"Don McLean's\", 'PERSON...</td>\n",
       "      <td>['The Day', \"Don McLean's\", 'American Pie', 'F...</td>\n",
       "    </tr>\n",
       "  </tbody>\n",
       "</table>\n",
       "<p>5 rows × 27 columns</p>\n",
       "</div>"
      ],
      "text/plain": [
       "   Unnamed: 0          User User_Location  Followers_Count  \\\n",
       "0           0  Pucci1989Mon          <NA>           1790.0   \n",
       "1           1  Pucci1989Mon          <NA>           1790.0   \n",
       "2           2  Pucci1989Mon          <NA>           1790.0   \n",
       "3           3  Pucci1989Mon          <NA>           1790.0   \n",
       "4           4  Pucci1989Mon          <NA>           1790.0   \n",
       "\n",
       "                User_Created  \\\n",
       "0  2015-11-17 19:18:54+00:00   \n",
       "1  2015-11-17 19:18:54+00:00   \n",
       "2  2015-11-17 19:18:54+00:00   \n",
       "3  2015-11-17 19:18:54+00:00   \n",
       "4  2015-11-17 19:18:54+00:00   \n",
       "\n",
       "                                    User_Description  User_Statuses_Count  \\\n",
       "0  Most of my Tweets are an attempt at sarcasm …S...              35828.0   \n",
       "1  Most of my Tweets are an attempt at sarcasm …S...              35828.0   \n",
       "2  Most of my Tweets are an attempt at sarcasm …S...              35828.0   \n",
       "3  Most of my Tweets are an attempt at sarcasm …S...              35828.0   \n",
       "4  Most of my Tweets are an attempt at sarcasm …S...              35828.0   \n",
       "\n",
       "                  Tweet_Date  Num_Likes  Num_Retweets  ...     Tweet_Source  \\\n",
       "0  2023-01-30 17:34:45+00:00        0.0           0.0  ...  Twitter Web App   \n",
       "1  2023-01-30 17:34:33+00:00        0.0           0.0  ...  Twitter Web App   \n",
       "2  2023-01-30 17:34:24+00:00        0.0           0.0  ...  Twitter Web App   \n",
       "3  2023-01-30 17:34:15+00:00        0.0           0.0  ...  Twitter Web App   \n",
       "4  2023-01-30 17:33:59+00:00        0.0           0.0  ...  Twitter Web App   \n",
       "\n",
       "                                               Tweet Sentiment  \\\n",
       "0  @_angelica_toy Happy Anniversary!!!....The Day...    0.2444   \n",
       "1  @McfarlaneGlenda Happy Anniversary!!!....The D...    0.2444   \n",
       "2  @thevivafrei @JustinTrudeau Happy Anniversary!...    0.2444   \n",
       "3  @NChartierET Happy Anniversary!!!....The Day t...    0.2444   \n",
       "4  @tabithapeters05 Happy Anniversary!!!....The D...    0.2444   \n",
       "\n",
       "                                       Cleaned_Tweet  \\\n",
       "0  _angelica_toy Happy Anniversary!!!    The Day ...   \n",
       "1  McfarlaneGlenda Happy Anniversary!!!    The Da...   \n",
       "2  thevivafrei JustinTrudeau Happy Anniversary!!!...   \n",
       "3  NChartierET Happy Anniversary!!!    The Day th...   \n",
       "4  tabithapeters05 Happy Anniversary!!!    The Da...   \n",
       "\n",
       "                                            Pos_Tags     Adjectives  \\\n",
       "0  [('_angelica_toy', 'NN'), ('Happy', 'NNP'), ('...  ['\"American']   \n",
       "1  [('McfarlaneGlenda', 'NNP'), ('Happy', 'NNP'),...  ['\"American']   \n",
       "2  [('thevivafrei', 'NN'), ('JustinTrudeau', 'NNP...  ['\"American']   \n",
       "3  [('NChartierET', 'NNP'), ('Happy', 'NNP'), ('A...  ['\"American']   \n",
       "4  [('tabithapeters05', 'NN'), ('Happy', 'NNP'), ...  ['\"American']   \n",
       "\n",
       "                                               Nouns        Verbs  \\\n",
       "0  ['_angelica_toy', 'Happy', 'Anniversary!!!', '...  ['', '(In']   \n",
       "1  ['McfarlaneGlenda', 'Happy', 'Anniversary!!!',...  ['', '(In']   \n",
       "2  ['thevivafrei', 'JustinTrudeau', 'Happy', 'Ann...  ['', '(In']   \n",
       "3  ['NChartierET', 'Happy', 'Anniversary!!!', '',...  ['', '(In']   \n",
       "4  ['tabithapeters05', 'Happy', 'Anniversary!!!',...  ['', '(In']   \n",
       "\n",
       "                                      Named Entities  \\\n",
       "0  [('Anniversary', 'DATE'), ('The Day', 'DATE'),...   \n",
       "1  [('McfarlaneGlenda', 'ORG'), ('Anniversary', '...   \n",
       "2  [('thevivafrei JustinTrudeau', 'PERSON'), ('Th...   \n",
       "3  [('NChartierET', 'PERSON'), ('Anniversary', 'D...   \n",
       "4  [('The Day', 'DATE'), (\"Don McLean's\", 'PERSON...   \n",
       "\n",
       "                                        All Entities  \n",
       "0  ['Anniversary', 'The Day', \"Don McLean's\", 'Am...  \n",
       "1  ['McfarlaneGlenda', 'Anniversary', 'The Day', ...  \n",
       "2  ['thevivafrei JustinTrudeau', 'The Day', \"Don ...  \n",
       "3  ['NChartierET', 'Anniversary', 'The Day', \"Don...  \n",
       "4  ['The Day', \"Don McLean's\", 'American Pie', 'F...  \n",
       "\n",
       "[5 rows x 27 columns]"
      ]
     },
     "execution_count": 42,
     "metadata": {},
     "output_type": "execute_result"
    }
   ],
   "source": [
    "data.head(5)"
   ]
  },
  {
   "cell_type": "markdown",
   "metadata": {
    "id": "vSo4k1IdT_hq"
   },
   "source": [
    "### EDA"
   ]
  },
  {
   "cell_type": "code",
   "execution_count": 43,
   "metadata": {
    "colab": {
     "base_uri": "https://localhost:8080/"
    },
    "id": "HaxW4K7AYucL",
    "outputId": "8ec77544-dc0b-41bd-eb63-65a785502ae5"
   },
   "outputs": [
    {
     "data": {
      "text/plain": [
       "(451332, 27)"
      ]
     },
     "execution_count": 43,
     "metadata": {},
     "output_type": "execute_result"
    }
   ],
   "source": [
    "# Shape of data\n",
    "data.shape"
   ]
  },
  {
   "cell_type": "code",
   "execution_count": 44,
   "metadata": {
    "id": "43UvGIWvZQ7c"
   },
   "outputs": [],
   "source": [
    "# Copy the data to a new dataframe\n",
    "df = data.copy()"
   ]
  },
  {
   "cell_type": "code",
   "execution_count": 45,
   "metadata": {
    "colab": {
     "base_uri": "https://localhost:8080/"
    },
    "id": "QCOunv1fZaYk",
    "outputId": "3862e130-738f-48fd-a743-9143acecdfd3"
   },
   "outputs": [
    {
     "data": {
      "text/plain": [
       "Unnamed: 0                  0\n",
       "User                        0\n",
       "User_Location          162833\n",
       "Followers_Count             0\n",
       "User_Created                0\n",
       "User_Description        69280\n",
       "User_Statuses_Count         0\n",
       "Tweet_Date                  0\n",
       "Num_Likes                   1\n",
       "Num_Retweets                1\n",
       "Num_Quotes                  0\n",
       "Num_Replies                 0\n",
       "Url                         0\n",
       "Coordinates            446109\n",
       "Tweet_Place            446112\n",
       "Hashtags               310631\n",
       "Tweet_Lang                  1\n",
       "Tweet_Source                1\n",
       "Tweet                       1\n",
       "Sentiment                   0\n",
       "Cleaned_Tweet              17\n",
       "Pos_Tags                    0\n",
       "Adjectives                  0\n",
       "Nouns                       0\n",
       "Verbs                       0\n",
       "Named Entities              0\n",
       "All Entities                0\n",
       "dtype: int64"
      ]
     },
     "execution_count": 45,
     "metadata": {},
     "output_type": "execute_result"
    }
   ],
   "source": [
    "# Checking if we have any nulls\n",
    "df.isna().sum()"
   ]
  },
  {
   "cell_type": "markdown",
   "metadata": {
    "id": "aeA2xusbfAVM"
   },
   "source": [
    "We don't need all the features. We only need 'Sentiment' and 'Cleaned_tweet'. Null values in other features does not affect our model."
   ]
  },
  {
   "cell_type": "code",
   "execution_count": 46,
   "metadata": {
    "id": "YOS8p84OZaPz"
   },
   "outputs": [],
   "source": [
    "# Selecting only specific features\n",
    "select_columns = ['Sentiment' , 'Cleaned_Tweet']\n",
    "new_df = df[select_columns]"
   ]
  },
  {
   "cell_type": "code",
   "execution_count": 47,
   "metadata": {
    "colab": {
     "base_uri": "https://localhost:8080/",
     "height": 206
    },
    "id": "Pi6098YNf7sD",
    "outputId": "143fc877-a88d-4764-f08f-6cdacbd4245e"
   },
   "outputs": [
    {
     "data": {
      "text/html": [
       "<div>\n",
       "<style scoped>\n",
       "    .dataframe tbody tr th:only-of-type {\n",
       "        vertical-align: middle;\n",
       "    }\n",
       "\n",
       "    .dataframe tbody tr th {\n",
       "        vertical-align: top;\n",
       "    }\n",
       "\n",
       "    .dataframe thead th {\n",
       "        text-align: right;\n",
       "    }\n",
       "</style>\n",
       "<table border=\"1\" class=\"dataframe\">\n",
       "  <thead>\n",
       "    <tr style=\"text-align: right;\">\n",
       "      <th></th>\n",
       "      <th>Sentiment</th>\n",
       "      <th>Cleaned_Tweet</th>\n",
       "    </tr>\n",
       "  </thead>\n",
       "  <tbody>\n",
       "    <tr>\n",
       "      <th>0</th>\n",
       "      <td>0.2444</td>\n",
       "      <td>_angelica_toy Happy Anniversary!!!    The Day ...</td>\n",
       "    </tr>\n",
       "    <tr>\n",
       "      <th>1</th>\n",
       "      <td>0.2444</td>\n",
       "      <td>McfarlaneGlenda Happy Anniversary!!!    The Da...</td>\n",
       "    </tr>\n",
       "    <tr>\n",
       "      <th>2</th>\n",
       "      <td>0.2444</td>\n",
       "      <td>thevivafrei JustinTrudeau Happy Anniversary!!!...</td>\n",
       "    </tr>\n",
       "    <tr>\n",
       "      <th>3</th>\n",
       "      <td>0.2444</td>\n",
       "      <td>NChartierET Happy Anniversary!!!    The Day th...</td>\n",
       "    </tr>\n",
       "    <tr>\n",
       "      <th>4</th>\n",
       "      <td>0.2444</td>\n",
       "      <td>tabithapeters05 Happy Anniversary!!!    The Da...</td>\n",
       "    </tr>\n",
       "  </tbody>\n",
       "</table>\n",
       "</div>"
      ],
      "text/plain": [
       "   Sentiment                                      Cleaned_Tweet\n",
       "0     0.2444  _angelica_toy Happy Anniversary!!!    The Day ...\n",
       "1     0.2444  McfarlaneGlenda Happy Anniversary!!!    The Da...\n",
       "2     0.2444  thevivafrei JustinTrudeau Happy Anniversary!!!...\n",
       "3     0.2444  NChartierET Happy Anniversary!!!    The Day th...\n",
       "4     0.2444  tabithapeters05 Happy Anniversary!!!    The Da..."
      ]
     },
     "execution_count": 47,
     "metadata": {},
     "output_type": "execute_result"
    }
   ],
   "source": [
    "# Display first five rows\n",
    "new_df.head(5)"
   ]
  },
  {
   "cell_type": "code",
   "execution_count": 48,
   "metadata": {
    "colab": {
     "base_uri": "https://localhost:8080/"
    },
    "id": "xdLkayuMgCaL",
    "outputId": "63d51302-a006-4138-eca9-7e6365cacffd"
   },
   "outputs": [
    {
     "name": "stdout",
     "output_type": "stream",
     "text": [
      "<class 'pandas.core.frame.DataFrame'>\n",
      "RangeIndex: 451332 entries, 0 to 451331\n",
      "Data columns (total 2 columns):\n",
      " #   Column         Non-Null Count   Dtype          \n",
      "---  ------         --------------   -----          \n",
      " 0   Sentiment      451332 non-null  double[pyarrow]\n",
      " 1   Cleaned_Tweet  451315 non-null  string[pyarrow]\n",
      "dtypes: double[pyarrow](1), string[pyarrow](1)\n",
      "memory usage: 73.2 MB\n"
     ]
    }
   ],
   "source": [
    "new_df.info()"
   ]
  },
  {
   "cell_type": "code",
   "execution_count": 49,
   "metadata": {
    "colab": {
     "base_uri": "https://localhost:8080/"
    },
    "id": "zIyel8u7gSGc",
    "outputId": "ab0a828f-70f0-48ba-fc8f-5d654fe8b9aa"
   },
   "outputs": [
    {
     "data": {
      "text/plain": [
       "Sentiment         0\n",
       "Cleaned_Tweet    17\n",
       "dtype: int64"
      ]
     },
     "execution_count": 49,
     "metadata": {},
     "output_type": "execute_result"
    }
   ],
   "source": [
    "new_df.isna().sum()"
   ]
  },
  {
   "cell_type": "markdown",
   "metadata": {},
   "source": [
    "Still there are some nulls in Cleaned_Tweet. We can drop them out."
   ]
  },
  {
   "cell_type": "code",
   "execution_count": 50,
   "metadata": {
    "id": "8Xco4TXAghyL"
   },
   "outputs": [],
   "source": [
    "new_df = new_df.dropna()"
   ]
  },
  {
   "cell_type": "code",
   "execution_count": 51,
   "metadata": {
    "colab": {
     "base_uri": "https://localhost:8080/"
    },
    "id": "KNgaMlzLghvj",
    "outputId": "cea8ba0f-c4ce-42be-c41f-1d4d40741cb0"
   },
   "outputs": [
    {
     "data": {
      "text/plain": [
       "Sentiment        0\n",
       "Cleaned_Tweet    0\n",
       "dtype: int64"
      ]
     },
     "execution_count": 51,
     "metadata": {},
     "output_type": "execute_result"
    }
   ],
   "source": [
    "new_df.isna().sum()"
   ]
  },
  {
   "cell_type": "code",
   "execution_count": 52,
   "metadata": {
    "colab": {
     "base_uri": "https://localhost:8080/"
    },
    "id": "0rK1_wlVqH5-",
    "outputId": "9f30f54f-eeca-451c-b3bc-620f19cba5cb"
   },
   "outputs": [
    {
     "data": {
      "text/plain": [
       "count    451315.000000\n",
       "mean          0.334008\n",
       "std           0.494349\n",
       "min          -0.992700\n",
       "25%           0.000000\n",
       "50%           0.520900\n",
       "75%           0.705200\n",
       "max           0.997600\n",
       "Name: Sentiment, dtype: double[pyarrow]"
      ]
     },
     "execution_count": 52,
     "metadata": {},
     "output_type": "execute_result"
    }
   ],
   "source": [
    "new_df['Sentiment'].describe()"
   ]
  },
  {
   "cell_type": "markdown",
   "metadata": {},
   "source": [
    "Max and min 'Sentiment' lies between 1 to -1. So, we are making all positive sentiment as positive category and vice versa."
   ]
  },
  {
   "cell_type": "code",
   "execution_count": 53,
   "metadata": {
    "id": "aX4YIMf1ghoD"
   },
   "outputs": [],
   "source": [
    "# labels\n",
    "sentiment_category = []\n",
    "\n",
    "# Categorize sentiment\n",
    "for score in new_df['Sentiment']:\n",
    "    if score > 0:\n",
    "        sentiment_category.append('positive')\n",
    "    else:\n",
    "        sentiment_category.append('negative')\n",
    "\n",
    "# Create a new column with sentiment category\n",
    "new_df['Sentiment_category'] = sentiment_category\n"
   ]
  },
  {
   "cell_type": "markdown",
   "metadata": {
    "id": "Mclf9hvcNZsN"
   },
   "source": [
    "This part is not needed unless we have the categorical data."
   ]
  },
  {
   "cell_type": "code",
   "execution_count": 54,
   "metadata": {
    "colab": {
     "base_uri": "https://localhost:8080/",
     "height": 206
    },
    "id": "cX3NmKmbrBCt",
    "outputId": "1e8f6ae2-1e4f-4f83-b821-5f1993c64e18"
   },
   "outputs": [
    {
     "data": {
      "text/html": [
       "<div>\n",
       "<style scoped>\n",
       "    .dataframe tbody tr th:only-of-type {\n",
       "        vertical-align: middle;\n",
       "    }\n",
       "\n",
       "    .dataframe tbody tr th {\n",
       "        vertical-align: top;\n",
       "    }\n",
       "\n",
       "    .dataframe thead th {\n",
       "        text-align: right;\n",
       "    }\n",
       "</style>\n",
       "<table border=\"1\" class=\"dataframe\">\n",
       "  <thead>\n",
       "    <tr style=\"text-align: right;\">\n",
       "      <th></th>\n",
       "      <th>Sentiment</th>\n",
       "      <th>Cleaned_Tweet</th>\n",
       "      <th>Sentiment_category</th>\n",
       "    </tr>\n",
       "  </thead>\n",
       "  <tbody>\n",
       "    <tr>\n",
       "      <th>0</th>\n",
       "      <td>0.2444</td>\n",
       "      <td>_angelica_toy Happy Anniversary!!!    The Day ...</td>\n",
       "      <td>positive</td>\n",
       "    </tr>\n",
       "    <tr>\n",
       "      <th>1</th>\n",
       "      <td>0.2444</td>\n",
       "      <td>McfarlaneGlenda Happy Anniversary!!!    The Da...</td>\n",
       "      <td>positive</td>\n",
       "    </tr>\n",
       "    <tr>\n",
       "      <th>2</th>\n",
       "      <td>0.2444</td>\n",
       "      <td>thevivafrei JustinTrudeau Happy Anniversary!!!...</td>\n",
       "      <td>positive</td>\n",
       "    </tr>\n",
       "    <tr>\n",
       "      <th>3</th>\n",
       "      <td>0.2444</td>\n",
       "      <td>NChartierET Happy Anniversary!!!    The Day th...</td>\n",
       "      <td>positive</td>\n",
       "    </tr>\n",
       "    <tr>\n",
       "      <th>4</th>\n",
       "      <td>0.2444</td>\n",
       "      <td>tabithapeters05 Happy Anniversary!!!    The Da...</td>\n",
       "      <td>positive</td>\n",
       "    </tr>\n",
       "  </tbody>\n",
       "</table>\n",
       "</div>"
      ],
      "text/plain": [
       "   Sentiment                                      Cleaned_Tweet  \\\n",
       "0     0.2444  _angelica_toy Happy Anniversary!!!    The Day ...   \n",
       "1     0.2444  McfarlaneGlenda Happy Anniversary!!!    The Da...   \n",
       "2     0.2444  thevivafrei JustinTrudeau Happy Anniversary!!!...   \n",
       "3     0.2444  NChartierET Happy Anniversary!!!    The Day th...   \n",
       "4     0.2444  tabithapeters05 Happy Anniversary!!!    The Da...   \n",
       "\n",
       "  Sentiment_category  \n",
       "0           positive  \n",
       "1           positive  \n",
       "2           positive  \n",
       "3           positive  \n",
       "4           positive  "
      ]
     },
     "execution_count": 54,
     "metadata": {},
     "output_type": "execute_result"
    }
   ],
   "source": [
    "new_df.head(5)"
   ]
  },
  {
   "cell_type": "code",
   "execution_count": 55,
   "metadata": {
    "colab": {
     "base_uri": "https://localhost:8080/",
     "height": 529
    },
    "id": "hrE3qyvrsi0c",
    "outputId": "fe404a26-abce-45a5-87e0-c16aa8b1833d"
   },
   "outputs": [
    {
     "data": {
      "image/png": "[encoded data removed]",
      "text/plain": [
       "<Figure size 432x432 with 1 Axes>"
      ]
     },
     "metadata": {},
     "output_type": "display_data"
    }
   ],
   "source": [
    "# Count the occurrences of each sentiment category\n",
    "sentiment_counts = new_df['Sentiment_category'].value_counts()\n",
    "\n",
    "# Create a pie chart\n",
    "plt.figure(figsize=(6, 6))\n",
    "sns.set(style=\"whitegrid\")\n",
    "sns.color_palette(\"pastel\")\n",
    "plt.pie(sentiment_counts, labels=sentiment_counts.index, autopct='%1.1f%%', startangle=140, colors=sns.color_palette(\"pastel\"))\n",
    "plt.title('Sentiment Category Distribution')\n",
    "plt.axis('equal')  # Equal aspect ratio ensures that pie is drawn as a circle.\n",
    "plt.show()"
   ]
  },
  {
   "cell_type": "markdown",
   "metadata": {},
   "source": [
    "Clearly our data is not balanced. We need to balance our dataset."
   ]
  },
  {
   "cell_type": "code",
   "execution_count": 56,
   "metadata": {
    "colab": {
     "base_uri": "https://localhost:8080/"
    },
    "id": "LVf95pb0tmhF",
    "outputId": "45eb2449-d46c-43c0-8160-b673c61cb80d"
   },
   "outputs": [
    {
     "data": {
      "text/plain": [
       "Sentiment_category\n",
       "positive    316735\n",
       "negative    134580\n",
       "Name: count, dtype: int64"
      ]
     },
     "execution_count": 56,
     "metadata": {},
     "output_type": "execute_result"
    }
   ],
   "source": [
    "sentiment_counts"
   ]
  },
  {
   "cell_type": "markdown",
   "metadata": {},
   "source": [
    "**Balancing our data**"
   ]
  },
  {
   "cell_type": "code",
   "execution_count": 57,
   "metadata": {
    "colab": {
     "base_uri": "https://localhost:8080/",
     "height": 521
    },
    "id": "ggtMSf6EuIa8",
    "outputId": "da6c311e-d94f-4483-cecb-0c7d62dffaae"
   },
   "outputs": [
    {
     "data": {
      "image/png": "[encoded data removed]",
      "text/plain": [
       "<Figure size 432x432 with 1 Axes>"
      ]
     },
     "metadata": {},
     "output_type": "display_data"
    }
   ],
   "source": [
    "# Sample positive sentiment samples to balance the data\n",
    "positive_samples = new_df[new_df['Sentiment_category'] == 'positive'].sample(n=sentiment_counts['negative'] , random_state=42)\n",
    "\n",
    "# Concatenate the selected positive samples with the neutral and negative samples\n",
    "balanced_df = pd.concat([positive_samples, new_df[new_df['Sentiment_category'] != 'positive']], ignore_index=True)\n",
    "\n",
    "# Create a pie chart\n",
    "plt.figure(figsize=(6, 6))\n",
    "sns.set(style=\"whitegrid\")\n",
    "sns.color_palette(\"pastel\")\n",
    "plt.pie(balanced_df['Sentiment_category'].value_counts(), labels = balanced_df['Sentiment_category'].value_counts().index, autopct='%1.1f%%', startangle=140, colors=sns.color_palette(\"pastel\"))\n",
    "plt.title('Balanced Sentiment Category Distribution')\n",
    "plt.axis('equal')  # Equal aspect ratio ensures that pie is drawn as a circle.\n",
    "plt.show()"
   ]
  },
  {
   "cell_type": "code",
   "execution_count": 58,
   "metadata": {
    "id": "PSyEVThqvNJF"
   },
   "outputs": [],
   "source": [
    "from sklearn.preprocessing import LabelEncoder\n",
    "\n",
    "# Instantiate the LabelEncoder\n",
    "le = LabelEncoder()\n",
    "\n",
    "# Fit and transform the column in the dataframe to get encoded labels\n",
    "balanced_df['Sentiment_label'] = le.fit_transform(balanced_df['Sentiment_category'])"
   ]
  },
  {
   "cell_type": "code",
   "execution_count": 59,
   "metadata": {
    "colab": {
     "base_uri": "https://localhost:8080/",
     "height": 206
    },
    "id": "tbMn6T26yst9",
    "outputId": "10816288-6dc4-4be6-f75b-34b63f92cfe6"
   },
   "outputs": [
    {
     "data": {
      "text/html": [
       "<div>\n",
       "<style scoped>\n",
       "    .dataframe tbody tr th:only-of-type {\n",
       "        vertical-align: middle;\n",
       "    }\n",
       "\n",
       "    .dataframe tbody tr th {\n",
       "        vertical-align: top;\n",
       "    }\n",
       "\n",
       "    .dataframe thead th {\n",
       "        text-align: right;\n",
       "    }\n",
       "</style>\n",
       "<table border=\"1\" class=\"dataframe\">\n",
       "  <thead>\n",
       "    <tr style=\"text-align: right;\">\n",
       "      <th></th>\n",
       "      <th>Sentiment</th>\n",
       "      <th>Cleaned_Tweet</th>\n",
       "      <th>Sentiment_category</th>\n",
       "      <th>Sentiment_label</th>\n",
       "    </tr>\n",
       "  </thead>\n",
       "  <tbody>\n",
       "    <tr>\n",
       "      <th>0</th>\n",
       "      <td>0.4497</td>\n",
       "      <td>traceitback SolarsSouls Patriotgirl0000 Roman_...</td>\n",
       "      <td>positive</td>\n",
       "      <td>1</td>\n",
       "    </tr>\n",
       "    <tr>\n",
       "      <th>1</th>\n",
       "      <td>0.1027</td>\n",
       "      <td>goodblackdude The Freedom convoy should displa...</td>\n",
       "      <td>positive</td>\n",
       "      <td>1</td>\n",
       "    </tr>\n",
       "    <tr>\n",
       "      <th>2</th>\n",
       "      <td>0.3736</td>\n",
       "      <td>Bzubyk Wild guess? No one can answer that  But...</td>\n",
       "      <td>positive</td>\n",
       "      <td>1</td>\n",
       "    </tr>\n",
       "    <tr>\n",
       "      <th>3</th>\n",
       "      <td>0.6369</td>\n",
       "      <td>Freedom Convoy weggejorist in Ottawa</td>\n",
       "      <td>positive</td>\n",
       "      <td>1</td>\n",
       "    </tr>\n",
       "    <tr>\n",
       "      <th>4</th>\n",
       "      <td>0.8360</td>\n",
       "      <td>A brilliant panel full of creative ideas on ho...</td>\n",
       "      <td>positive</td>\n",
       "      <td>1</td>\n",
       "    </tr>\n",
       "  </tbody>\n",
       "</table>\n",
       "</div>"
      ],
      "text/plain": [
       "   Sentiment                                      Cleaned_Tweet  \\\n",
       "0     0.4497  traceitback SolarsSouls Patriotgirl0000 Roman_...   \n",
       "1     0.1027  goodblackdude The Freedom convoy should displa...   \n",
       "2     0.3736  Bzubyk Wild guess? No one can answer that  But...   \n",
       "3     0.6369              Freedom Convoy weggejorist in Ottawa    \n",
       "4     0.8360  A brilliant panel full of creative ideas on ho...   \n",
       "\n",
       "  Sentiment_category  Sentiment_label  \n",
       "0           positive                1  \n",
       "1           positive                1  \n",
       "2           positive                1  \n",
       "3           positive                1  \n",
       "4           positive                1  "
      ]
     },
     "execution_count": 59,
     "metadata": {},
     "output_type": "execute_result"
    }
   ],
   "source": [
    "balanced_df.head()"
   ]
  },
  {
   "cell_type": "code",
   "execution_count": 60,
   "metadata": {
    "id": "e-vgbfy4No_9"
   },
   "outputs": [],
   "source": [
    "from sklearn.utils import resample\n",
    "# Getting only few samples\n",
    "# Here we choose only 5000\n",
    "sampled_data = resample(balanced_df, replace=True, n_samples=5000, random_state=42)"
   ]
  },
  {
   "cell_type": "code",
   "execution_count": 61,
   "metadata": {
    "colab": {
     "base_uri": "https://localhost:8080/",
     "height": 250
    },
    "id": "6DdkZSHDN9B-",
    "outputId": "5914dac5-b50e-4759-d412-88034338f4ec"
   },
   "outputs": [
    {
     "data": {
      "text/html": [
       "<div>\n",
       "<style scoped>\n",
       "    .dataframe tbody tr th:only-of-type {\n",
       "        vertical-align: middle;\n",
       "    }\n",
       "\n",
       "    .dataframe tbody tr th {\n",
       "        vertical-align: top;\n",
       "    }\n",
       "\n",
       "    .dataframe thead th {\n",
       "        text-align: right;\n",
       "    }\n",
       "</style>\n",
       "<table border=\"1\" class=\"dataframe\">\n",
       "  <thead>\n",
       "    <tr style=\"text-align: right;\">\n",
       "      <th></th>\n",
       "      <th>Sentiment</th>\n",
       "      <th>Cleaned_Tweet</th>\n",
       "      <th>Sentiment_category</th>\n",
       "      <th>Sentiment_label</th>\n",
       "    </tr>\n",
       "  </thead>\n",
       "  <tbody>\n",
       "    <tr>\n",
       "      <th>121958</th>\n",
       "      <td>0.2422</td>\n",
       "      <td>FreedomConvoyCanada2022 \n",
       "Freedom Convoy  Medi...</td>\n",
       "      <td>positive</td>\n",
       "      <td>1</td>\n",
       "    </tr>\n",
       "    <tr>\n",
       "      <th>146867</th>\n",
       "      <td>0.0000</td>\n",
       "      <td>Winter  Freedom Convoy  blockades cost billion...</td>\n",
       "      <td>negative</td>\n",
       "      <td>0</td>\n",
       "    </tr>\n",
       "    <tr>\n",
       "      <th>131932</th>\n",
       "      <td>0.6369</td>\n",
       "      <td>Emergencies Act   Freedom Convoy Inquiry  Live...</td>\n",
       "      <td>positive</td>\n",
       "      <td>1</td>\n",
       "    </tr>\n",
       "    <tr>\n",
       "      <th>259178</th>\n",
       "      <td>-0.2500</td>\n",
       "      <td>Ottawa  Freedom Convoy  Protest in Photos</td>\n",
       "      <td>negative</td>\n",
       "      <td>0</td>\n",
       "    </tr>\n",
       "    <tr>\n",
       "      <th>119879</th>\n",
       "      <td>0.5267</td>\n",
       "      <td>CBC admits that it spread disinformation on  F...</td>\n",
       "      <td>positive</td>\n",
       "      <td>1</td>\n",
       "    </tr>\n",
       "  </tbody>\n",
       "</table>\n",
       "</div>"
      ],
      "text/plain": [
       "        Sentiment                                      Cleaned_Tweet  \\\n",
       "121958     0.2422   FreedomConvoyCanada2022 \n",
       "Freedom Convoy  Medi...   \n",
       "146867     0.0000  Winter  Freedom Convoy  blockades cost billion...   \n",
       "131932     0.6369  Emergencies Act   Freedom Convoy Inquiry  Live...   \n",
       "259178    -0.2500         Ottawa  Freedom Convoy  Protest in Photos\n",
       "   \n",
       "119879     0.5267  CBC admits that it spread disinformation on  F...   \n",
       "\n",
       "       Sentiment_category  Sentiment_label  \n",
       "121958           positive                1  \n",
       "146867           negative                0  \n",
       "131932           positive                1  \n",
       "259178           negative                0  \n",
       "119879           positive                1  "
      ]
     },
     "execution_count": 61,
     "metadata": {},
     "output_type": "execute_result"
    }
   ],
   "source": [
    "sampled_data.head(5)"
   ]
  },
  {
   "cell_type": "markdown",
   "metadata": {
    "id": "BfvgNUAROFw2"
   },
   "source": [
    "We are taking only the specific numbers of samples for the model operations."
   ]
  },
  {
   "cell_type": "code",
   "execution_count": 62,
   "metadata": {
    "colab": {
     "base_uri": "https://localhost:8080/",
     "height": 53
    },
    "id": "7OLwFVuPOxm9",
    "outputId": "47d76181-7624-4674-e4e7-8b8f088408e4"
   },
   "outputs": [
    {
     "data": {
      "text/plain": [
       "'Protests and Demonstrations have been futile as the Freedom Convoy Movement in Canada clearly showcased  The road for us is Awareness and Resistance  jagchat01 vigcit99'"
      ]
     },
     "execution_count": 62,
     "metadata": {},
     "output_type": "execute_result"
    }
   ],
   "source": [
    "# Resetting the index\n",
    "sampled_data.reset_index(drop=True, inplace=True)\n",
    "# Getting the content of respective index\n",
    "sampled_data.loc[100, 'Cleaned_Tweet']"
   ]
  },
  {
   "cell_type": "code",
   "execution_count": 63,
   "metadata": {
    "colab": {
     "base_uri": "https://localhost:8080/"
    },
    "id": "yaGnB53PVmFl",
    "outputId": "3a1d426a-30a9-4327-de9a-4f7a802e8f29"
   },
   "outputs": [
    {
     "data": {
      "text/plain": [
       "Sentiment_category\n",
       "negative    2539\n",
       "positive    2461\n",
       "Name: count, dtype: int64"
      ]
     },
     "execution_count": 63,
     "metadata": {},
     "output_type": "execute_result"
    }
   ],
   "source": [
    "sampled_data['Sentiment_category'].value_counts()"
   ]
  },
  {
   "cell_type": "markdown",
   "metadata": {
    "id": "wmll_P63T_fb"
   },
   "source": [
    "### Text Preprocessing"
   ]
  },
  {
   "cell_type": "code",
   "execution_count": 64,
   "metadata": {
    "id": "zSx8nct_T2Fd"
   },
   "outputs": [],
   "source": [
    "def remove_slang(tweet_tokens):\n",
    "   # Additional slang terms and their meanings\n",
    "    slangs = {\n",
    "        'IMO': 'In My Opinion',\n",
    "        'ICYMI': 'In Case You Missed It',\n",
    "        'NSFW': 'Not Safe For Work',\n",
    "        'TBT': 'Throwback Thursday',\n",
    "        'AMA': 'Ask Me Anything',\n",
    "        'FOMO': 'Fear Of Missing Out',\n",
    "        'ROFL': 'Rolling On the Floor Laughing',\n",
    "        'IRL': 'In Real Life',\n",
    "        'YOLO': 'You Only Live Once',\n",
    "        'FOMO': 'Fear Of Missing Out',\n",
    "        'G2G': 'Got To Go',\n",
    "        'JK': 'Just Kidding',\n",
    "        'OMW': 'On My Way',\n",
    "        'OOTD': 'Outfit Of The Day',\n",
    "        'TFW': 'That Feeling When',\n",
    "        'TBH': 'To Be Honest',\n",
    "        'WYD': 'What You Doing',\n",
    "        'AMA': 'Ask Me Anything',\n",
    "        'BFF': 'Best Friends Forever',\n",
    "        'BRB': 'Be Right Back',\n",
    "        'AFK': 'Away From Keyboard',\n",
    "        'ICYMI': 'In Case You Missed It',\n",
    "        'SMH': 'Shaking My Head',\n",
    "        'IDK': \"I Don't Know\",\n",
    "        'BTW': 'By The Way',\n",
    "        'FTW': 'For The Win',\n",
    "        'MFW': 'My Face When',\n",
    "        'NVM': 'Never Mind',\n",
    "        'WTH': 'What The Heck',\n",
    "        'ILY': 'I Love You',\n",
    "        'LMK': 'Let Me Know',\n",
    "        'LMAO': 'Laughing My A** Off',\n",
    "        'OMG': 'Oh My God',\n",
    "        'POV': 'Point Of View',\n",
    "        'TTYL': 'Talk To You Later',\n",
    "        'WYWH': 'Wish You Were Here',\n",
    "        'AMA': 'Ask Me Anything',\n",
    "        'BTW': 'By The Way',\n",
    "        'SMH': 'Shaking My Head',\n",
    "        'IDK': \"I Don't Know\",\n",
    "        'FTW': 'For The Win',\n",
    "        'FYI': 'For Your Information',\n",
    "        'GTG': 'Got To Go',\n",
    "        'HBD': 'Happy Birthday',\n",
    "        'ICYMI': 'In Case You Missed It',\n",
    "        'IMHO': 'In My Humble Opinion',\n",
    "        'JK': 'Just Kidding',\n",
    "        'LOL': 'Laugh Out Loud',\n",
    "        'NP': 'No Problem',\n",
    "        'OMW': 'On My Way',\n",
    "        'OTW': 'On The Way',\n",
    "        'ROFL': 'Rolling On the Floor Laughing',\n",
    "        'TBH': 'To Be Honest',\n",
    "        'TBT': 'Throwback Thursday',\n",
    "        'TGIF': 'Thank God It’s Friday',\n",
    "        'TMI': 'Too Much Information',\n",
    "        'TTYL': 'Talk To You Later',\n",
    "        'YOLO': 'You Only Live Once',\n",
    "        'YW': 'You’re Welcome',\n",
    "    }\n",
    "\n",
    "    # Split the tweet text into words\n",
    "    words = tweet_tokens.split()\n",
    "\n",
    "    # Remove slang words from the list of words\n",
    "    cleaned_words = [word for word in words if word not in slangs]\n",
    "\n",
    "    # Rejoin the words to form the cleaned tweet text\n",
    "    cleaned_tweet = ' '.join(cleaned_words)\n",
    "\n",
    "    return cleaned_tweet"
   ]
  },
  {
   "cell_type": "code",
   "execution_count": 65,
   "metadata": {
    "id": "HtkEzqqET4MW"
   },
   "outputs": [],
   "source": [
    "def remove_emojis(text):\n",
    "    if not isinstance(text, str):\n",
    "        return ''\n",
    "\n",
    "    emoji_pattern = re.compile(\"[\"\n",
    "                               u\"\\U0001F600-\\U0001F64F\"  # emoticons\n",
    "                               u\"\\U0001F300-\\U0001F5FF\"  # symbols & pictographs\n",
    "                               u\"\\U0001F680-\\U0001F6FF\"  # transport & map symbols\n",
    "                               u\"\\U0001F1E0-\\U0001F1FF\"  # flags\n",
    "                               u\"\\U00002500-\\U00002BEF\"  # Chinese/Japanese/Korean characters\n",
    "                               u\"\\U00002702-\\U000027B0\"\n",
    "                               u\"\\U00002702-\\U000027B0\"\n",
    "                               u\"\\U000024C2-\\U0001F251\"\n",
    "                               u\"\\U0001f926-\\U0001f937\"\n",
    "                               u\"\\U00010000-\\U0010ffff\"\n",
    "                               \"\\u200d\"  # zero width joiner\n",
    "                               \"\\u2640-\\u2642\"  # gender specific emojis\n",
    "                               \"\\u2600-\\u2B55\"  # weather emojis\n",
    "                               \"\\u23cf\"  # Eject button\n",
    "                               \"\\u23e9\"  # Fast forward button\n",
    "                               \"\\u231a\"  # Watch\n",
    "                               \"\\ufe0f\"  # Variants (text style, emoji style, etc.)\n",
    "                               \"\\u3030\"\n",
    "                               \"]+\", flags=re.UNICODE)\n",
    "    return emoji_pattern.sub(r'', text)"
   ]
  },
  {
   "cell_type": "code",
   "execution_count": 66,
   "metadata": {
    "id": "NBRYJSBTTf0v"
   },
   "outputs": [],
   "source": [
    "# Text Preprocessing Methods\n",
    "\n",
    "def remove_urls(text):\n",
    "    return re.sub(r'http\\S+|www\\S+|https\\S+', '', text, flags=re.MULTILINE)\n",
    "\n",
    "def remove_usernames(text):\n",
    "    return re.sub(r'@\\w+', '', text)\n",
    "\n",
    "def remove_punctuation(text):\n",
    "    return text.translate(str.maketrans('', '', string.punctuation))\n",
    "\n",
    "def remove_digits(text):\n",
    "    return re.sub(r'\\d+', '', text)\n",
    "\n",
    "def remove_special_characters(text):\n",
    "    return re.sub('[^A-Za-z0-9\\s]+', '', text)\n",
    "\n",
    "def remove_stopwords(tokenized_text):\n",
    "    return [token for token in tokenized_text if token not in stop_words]\n",
    "\n",
    "def lemmatize(tokenized_text):\n",
    "    return [lemmatizer.lemmatize(token) for token in tokenized_text]"
   ]
  },
  {
   "cell_type": "code",
   "execution_count": 67,
   "metadata": {
    "id": "caXGElVGThBl"
   },
   "outputs": [],
   "source": [
    "# modular function that cleans text.\n",
    "def clean_text(text):\n",
    "\n",
    "    text = text.lower()\n",
    "    text = remove_urls(text)\n",
    "    text = remove_usernames(text)\n",
    "    text = remove_punctuation(text)\n",
    "    text = remove_digits(text)\n",
    "    text = remove_special_characters(text)\n",
    "    text = remove_slang(text)\n",
    "    text = remove_emojis(text)\n",
    "\n",
    "    tokenized_text = word_tokenize(text)\n",
    "\n",
    "    tokenized_text = remove_stopwords(tokenized_text)\n",
    "    tokenized_text = lemmatize(tokenized_text)\n",
    "\n",
    "    cleaned_text = ' '.join(tokenized_text)\n",
    "\n",
    "    return cleaned_text"
   ]
  },
  {
   "cell_type": "code",
   "execution_count": 68,
   "metadata": {
    "colab": {
     "base_uri": "https://localhost:8080/"
    },
    "id": "5-hhYgO1z4vg",
    "outputId": "a4f1180c-55cc-4245-ffb9-42f52beb8e5e"
   },
   "outputs": [],
   "source": [
    "# nltk.download('stopwords')\n",
    "# nltk.download('punkt')\n",
    "# nltk.download('wordnet')"
   ]
  },
  {
   "cell_type": "code",
   "execution_count": 69,
   "metadata": {
    "id": "djLDz3BUZlrv"
   },
   "outputs": [],
   "source": [
    "# Instantiate these objects once instead of every time the function is called\n",
    "lemmatizer = WordNetLemmatizer()\n",
    "stop_words = set(stopwords.words('english'))"
   ]
  },
  {
   "cell_type": "code",
   "execution_count": 70,
   "metadata": {
    "id": "cRCXEDvnXFgu"
   },
   "outputs": [],
   "source": [
    "sampled_data['Cleaned_Tweet'] = sampled_data['Cleaned_Tweet'].apply(lambda x : clean_text(x))"
   ]
  },
  {
   "cell_type": "code",
   "execution_count": 71,
   "metadata": {
    "colab": {
     "base_uri": "https://localhost:8080/",
     "height": 250
    },
    "id": "aptA8YSEXFZX",
    "outputId": "e9e30628-6ddc-4159-c662-1320b9dbab31"
   },
   "outputs": [
    {
     "data": {
      "text/html": [
       "<div>\n",
       "<style scoped>\n",
       "    .dataframe tbody tr th:only-of-type {\n",
       "        vertical-align: middle;\n",
       "    }\n",
       "\n",
       "    .dataframe tbody tr th {\n",
       "        vertical-align: top;\n",
       "    }\n",
       "\n",
       "    .dataframe thead th {\n",
       "        text-align: right;\n",
       "    }\n",
       "</style>\n",
       "<table border=\"1\" class=\"dataframe\">\n",
       "  <thead>\n",
       "    <tr style=\"text-align: right;\">\n",
       "      <th></th>\n",
       "      <th>Sentiment</th>\n",
       "      <th>Cleaned_Tweet</th>\n",
       "      <th>Sentiment_category</th>\n",
       "      <th>Sentiment_label</th>\n",
       "    </tr>\n",
       "  </thead>\n",
       "  <tbody>\n",
       "    <tr>\n",
       "      <th>0</th>\n",
       "      <td>0.2422</td>\n",
       "      <td>freedomconvoycanada freedom convoy medium smea...</td>\n",
       "      <td>positive</td>\n",
       "      <td>1</td>\n",
       "    </tr>\n",
       "    <tr>\n",
       "      <th>1</th>\n",
       "      <td>0.0000</td>\n",
       "      <td>winter freedom convoy blockade cost billion ca...</td>\n",
       "      <td>negative</td>\n",
       "      <td>0</td>\n",
       "    </tr>\n",
       "    <tr>\n",
       "      <th>2</th>\n",
       "      <td>0.6369</td>\n",
       "      <td>emergency act freedom convoy inquiry live news...</td>\n",
       "      <td>positive</td>\n",
       "      <td>1</td>\n",
       "    </tr>\n",
       "    <tr>\n",
       "      <th>3</th>\n",
       "      <td>-0.2500</td>\n",
       "      <td>ottawa freedom convoy protest photo</td>\n",
       "      <td>negative</td>\n",
       "      <td>0</td>\n",
       "    </tr>\n",
       "    <tr>\n",
       "      <th>4</th>\n",
       "      <td>0.5267</td>\n",
       "      <td>cbc admits spread disinformation freedom convo...</td>\n",
       "      <td>positive</td>\n",
       "      <td>1</td>\n",
       "    </tr>\n",
       "  </tbody>\n",
       "</table>\n",
       "</div>"
      ],
      "text/plain": [
       "   Sentiment                                      Cleaned_Tweet  \\\n",
       "0     0.2422  freedomconvoycanada freedom convoy medium smea...   \n",
       "1     0.0000  winter freedom convoy blockade cost billion ca...   \n",
       "2     0.6369  emergency act freedom convoy inquiry live news...   \n",
       "3    -0.2500                ottawa freedom convoy protest photo   \n",
       "4     0.5267  cbc admits spread disinformation freedom convo...   \n",
       "\n",
       "  Sentiment_category  Sentiment_label  \n",
       "0           positive                1  \n",
       "1           negative                0  \n",
       "2           positive                1  \n",
       "3           negative                0  \n",
       "4           positive                1  "
      ]
     },
     "execution_count": 71,
     "metadata": {},
     "output_type": "execute_result"
    }
   ],
   "source": [
    "sampled_data.head()"
   ]
  },
  {
   "cell_type": "markdown",
   "metadata": {},
   "source": [
    "### SVM"
   ]
  },
  {
   "cell_type": "markdown",
   "metadata": {
    "id": "WHzZMfJiUtbi"
   },
   "source": [
    " **Train Test Split**"
   ]
  },
  {
   "cell_type": "code",
   "execution_count": 72,
   "metadata": {
    "id": "xBgBnF2pZ3Ym"
   },
   "outputs": [],
   "source": [
    "from sklearn.model_selection import train_test_split"
   ]
  },
  {
   "cell_type": "code",
   "execution_count": 73,
   "metadata": {
    "id": "rezx95KhZ3Q3"
   },
   "outputs": [],
   "source": [
    "X_temp, X_test, y_temp, y_test = train_test_split(sampled_data['Cleaned_Tweet'], sampled_data['Sentiment_label'], test_size=0.4, random_state=42)\n",
    "\n",
    "# Then split the temporary set into separate training and validation sets\n",
    "X_train, X_val, y_train, y_val = train_test_split(X_temp, y_temp, test_size=0.4, random_state=42)\n"
   ]
  },
  {
   "cell_type": "markdown",
   "metadata": {
    "id": "2VcM-7rbT_cy"
   },
   "source": [
    "#### Feature Engineering"
   ]
  },
  {
   "cell_type": "markdown",
   "metadata": {
    "id": "v-M1rPRlHjwg"
   },
   "source": [
    "**TF-IDF**"
   ]
  },
  {
   "cell_type": "code",
   "execution_count": 74,
   "metadata": {
    "id": "xmMBs6_R0nAX"
   },
   "outputs": [],
   "source": [
    "from sklearn.feature_extraction.text import TfidfVectorizer"
   ]
  },
  {
   "cell_type": "code",
   "execution_count": 79,
   "metadata": {
    "id": "C6W3wEQH0m8Q"
   },
   "outputs": [],
   "source": [
    "# Vectorize the text data\n",
    "vectorizer = TfidfVectorizer(max_features= 7148)\n",
    "X_train_vect = vectorizer.fit_transform(X_train)\n",
    "X_val_vect = vectorizer.transform(X_val)\n",
    "X_test_vect = vectorizer.transform(X_test)"
   ]
  },
  {
   "cell_type": "markdown",
   "metadata": {
    "id": "tPVXm6FRT_YL"
   },
   "source": [
    "#### Model Training"
   ]
  },
  {
   "cell_type": "code",
   "execution_count": 81,
   "metadata": {
    "id": "5Q9hAkyj4cxA"
   },
   "outputs": [],
   "source": [
    "from sklearn.svm import SVC\n",
    "from sklearn.metrics import accuracy_score, classification_report, confusion_matrix"
   ]
  },
  {
   "cell_type": "code",
   "execution_count": 83,
   "metadata": {
    "colab": {
     "base_uri": "https://localhost:8080/",
     "height": 75
    },
    "id": "iDlTGDhJ4itL",
    "outputId": "474f7adf-ff29-46fb-8aeb-ed18793f0ba2"
   },
   "outputs": [
    {
     "data": {
      "text/plain": [
       "SVC(kernel='linear')"
      ]
     },
     "execution_count": 83,
     "metadata": {},
     "output_type": "execute_result"
    }
   ],
   "source": [
    "# Create an instance of the SVM classifier (SVC)\n",
    "classifier = SVC(kernel='linear')\n",
    "\n",
    "# Train the classifier on the vectorized training data\n",
    "classifier.fit(X_train_vect, y_train)"
   ]
  },
  {
   "cell_type": "code",
   "execution_count": 85,
   "metadata": {
    "id": "d9P5Y6xo4sCI"
   },
   "outputs": [],
   "source": [
    "# Make predictions on the training, validation, and test data\n",
    "y_train_pred = classifier.predict(X_train_vect)\n",
    "y_val_pred = classifier.predict(X_val_vect)\n",
    "y_test_pred = classifier.predict(X_test_vect)"
   ]
  },
  {
   "cell_type": "code",
   "execution_count": 86,
   "metadata": {
    "id": "JmBkBkJV4zLS"
   },
   "outputs": [],
   "source": [
    "# Calculate the accuracy on each dataset\n",
    "train_accuracy = accuracy_score(y_train, y_train_pred)\n",
    "val_accuracy = accuracy_score(y_val, y_val_pred)\n",
    "test_accuracy = accuracy_score(y_test, y_test_pred)"
   ]
  },
  {
   "cell_type": "markdown",
   "metadata": {
    "id": "Q1qD5uMFT_WC"
   },
   "source": [
    "#### Model Evaluation"
   ]
  },
  {
   "cell_type": "code",
   "execution_count": 87,
   "metadata": {
    "colab": {
     "base_uri": "https://localhost:8080/",
     "height": 712
    },
    "id": "lcKv2beE6eqY",
    "outputId": "2c3cd888-c104-4083-ea77-efb9c3257521"
   },
   "outputs": [
    {
     "name": "stdout",
     "output_type": "stream",
     "text": [
      "Training Accuracy: 0.9538888888888889\n",
      "Validation Accuracy: 0.7258333333333333\n",
      "Test Accuracy: 0.738\n",
      "Classification Report:\n",
      "              precision    recall  f1-score   support\n",
      "\n",
      "           0       0.74      0.73      0.73       994\n",
      "           1       0.74      0.75      0.74      1006\n",
      "\n",
      "    accuracy                           0.74      2000\n",
      "   macro avg       0.74      0.74      0.74      2000\n",
      "weighted avg       0.74      0.74      0.74      2000\n",
      "\n",
      "Confusion Matrix:\n",
      "[[726 268]\n",
      " [256 750]]\n"
     ]
    },
    {
     "data": {
      "image/png": "[encoded data removed]",
      "text/plain": [
       "<Figure size 432x288 with 2 Axes>"
      ]
     },
     "metadata": {},
     "output_type": "display_data"
    }
   ],
   "source": [
    "# Print the accuracies\n",
    "print(f\"Training Accuracy: {train_accuracy}\")\n",
    "print(f\"Validation Accuracy: {val_accuracy}\")\n",
    "print(f\"Test Accuracy: {test_accuracy}\")\n",
    "\n",
    "# Print the classification report\n",
    "print(\"Classification Report:\")\n",
    "print(classification_report(y_test, y_test_pred))\n",
    "\n",
    "# Print the confusion matrix\n",
    "print(\"Confusion Matrix:\")\n",
    "print(confusion_matrix(y_test, y_test_pred))\n",
    "\n",
    "# Plot the confusion matrix\n",
    "sns.heatmap(confusion_matrix(y_test, y_test_pred), annot=True, fmt='d')\n",
    "plt.show()"
   ]
  },
  {
   "cell_type": "code",
   "execution_count": 88,
   "metadata": {
    "colab": {
     "base_uri": "https://localhost:8080/",
     "height": 573
    },
    "id": "h-g-iVFE8OnA",
    "outputId": "c743419b-9b43-415c-ff2e-e76c88582ebe"
   },
   "outputs": [
    {
     "data": {
      "image/png": "[encoded data removed]",
      "text/plain": [
       "<Figure size 432x432 with 1 Axes>"
      ]
     },
     "metadata": {},
     "output_type": "display_data"
    }
   ],
   "source": [
    "# plot roc-auc curve\n",
    "from sklearn.metrics import roc_curve, auc\n",
    "fpr, tpr, thresholds = roc_curve(y_test, y_test_pred)\n",
    "roc_auc = auc(fpr, tpr)\n",
    "\n",
    "plt.figure(figsize=(6,6))\n",
    "plt.plot(fpr, tpr, color='darkorange', lw=2, label='ROC curve (area = %0.2f)' % roc_auc)\n",
    "\n",
    "plt.plot([0, 1], [0, 1], color='navy', lw=2, linestyle='--')\n",
    "\n",
    "plt.xlim([0.0, 1.0])\n",
    "plt.ylim([0.0, 1.05])\n",
    "\n",
    "plt.xlabel('False Positive Rate')\n",
    "plt.ylabel('True Positive Rate')\n",
    "\n",
    "plt.title('Receiver operating characteristic example')\n",
    "plt.legend(loc=\"lower right\")\n",
    "plt.show()\n"
   ]
  },
  {
   "cell_type": "markdown",
   "metadata": {
    "id": "pSP9gu7j671p"
   },
   "source": [
    "#### Making Predictions"
   ]
  },
  {
   "cell_type": "code",
   "execution_count": 89,
   "metadata": {
    "id": "AhlKtQhP8UK4"
   },
   "outputs": [],
   "source": [
    "def predict_text(text):\n",
    "    # Preprocess the text and transform using the SAME vectorizer\n",
    "    preprocessed_text = clean_text(text)  # Replace with your preprocessing function\n",
    "    vectorizer.fit(X_train)\n",
    "    text_vector = vectorizer.transform([preprocessed_text])\n",
    "\n",
    "    # Make sentiment prediction\n",
    "    predicted_sentiment = classifier.predict(text_vector)\n",
    "\n",
    "    if predicted_sentiment[0] == 1:\n",
    "        sentiment = \"Positive\"\n",
    "    else:\n",
    "        sentiment = \"Negative\"\n",
    "\n",
    "    print(\"Predicted Sentiment:\", sentiment)"
   ]
  },
  {
   "cell_type": "code",
   "execution_count": 90,
   "metadata": {
    "colab": {
     "base_uri": "https://localhost:8080/"
    },
    "id": "cc-3CiibCXvQ",
    "outputId": "9ae09f00-0787-430d-cd8f-12e4133fc8c2"
   },
   "outputs": [
    {
     "name": "stdout",
     "output_type": "stream",
     "text": [
      "Predicted Sentiment: Negative\n"
     ]
    }
   ],
   "source": [
    "# Text to predict sentiment\n",
    "text1 = \"I hate this product!\"\n",
    "predict_text(text1)"
   ]
  },
  {
   "cell_type": "code",
   "execution_count": 91,
   "metadata": {
    "colab": {
     "base_uri": "https://localhost:8080/"
    },
    "id": "7H9_PY3_CnHp",
    "outputId": "262c5ec1-5767-4c22-b471-d48737bbbbd1"
   },
   "outputs": [
    {
     "name": "stdout",
     "output_type": "stream",
     "text": [
      "Predicted Sentiment: Positive\n"
     ]
    }
   ],
   "source": [
    "text2 = 'WOW ! Such a beautiful day!!!'\n",
    "predict_text(text2)"
   ]
  },
  {
   "cell_type": "markdown",
   "metadata": {
    "id": "Og1OA3JRaekG"
   },
   "source": [
    "### LSTM"
   ]
  },
  {
   "cell_type": "code",
   "execution_count": 92,
   "metadata": {},
   "outputs": [],
   "source": [
    "import tensorflow as tf\n",
    "from tensorflow.keras.layers import LSTM, Dense, Embedding, Bidirectional, Dropout\n",
    "from tensorflow.keras.models import Sequential\n",
    "from tensorflow.keras.optimizers import Adam\n",
    "from tensorflow.keras.callbacks import EarlyStopping  # Early stopping for model training"
   ]
  },
  {
   "cell_type": "markdown",
   "metadata": {},
   "source": [
    "**One Hot Encoding**"
   ]
  },
  {
   "cell_type": "code",
   "execution_count": 93,
   "metadata": {},
   "outputs": [],
   "source": [
    "from tensorflow.keras.preprocessing.text import one_hot\n",
    "vocab_size = 10000\n",
    "\n",
    "one_hot_doc=[one_hot(words, n = vocab_size)\n",
    "           for words in sampled_data['Cleaned_Tweet']\n",
    "           ]"
   ]
  },
  {
   "cell_type": "code",
   "execution_count": 98,
   "metadata": {},
   "outputs": [],
   "source": [
    "from tensorflow.keras.preprocessing.sequence import pad_sequences\n",
    "\n",
    "sentence_len = 500\n",
    "embedded_doc = pad_sequences(\n",
    "    one_hot_doc,\n",
    "    maxlen = sentence_len,\n",
    "    padding=\"pre\"\n",
    ")"
   ]
  },
  {
   "cell_type": "code",
   "execution_count": 99,
   "metadata": {},
   "outputs": [],
   "source": [
    "extract_features = pd.DataFrame(\n",
    "    data = embedded_doc\n",
    ")\n",
    "target= sampled_data['Sentiment_label']"
   ]
  },
  {
   "cell_type": "code",
   "execution_count": 101,
   "metadata": {},
   "outputs": [],
   "source": [
    "df_final = pd.concat([extract_features,target],axis=1)\n"
   ]
  },
  {
   "cell_type": "code",
   "execution_count": 102,
   "metadata": {},
   "outputs": [],
   "source": [
    "X = df_final.drop(\"Sentiment_label\",axis=1)\n",
    "y = df_final[\"Sentiment_label\"]"
   ]
  },
  {
   "cell_type": "code",
   "execution_count": 103,
   "metadata": {},
   "outputs": [],
   "source": [
    "X_train_val,X_test,y_train_val,y_test = train_test_split(X, y, random_state=42, test_size=0.45)\n",
    "\n",
    "X_train, X_val, y_train, y_val = train_test_split(X_train_val, y_train_val, random_state=42, test_size=0.50)\n"
   ]
  },
  {
   "cell_type": "code",
   "execution_count": 104,
   "metadata": {},
   "outputs": [
    {
     "name": "stdout",
     "output_type": "stream",
     "text": [
      "Epoch 1/15\n",
      "43/43 [==============================] - 549s 13s/step - loss: 0.6244 - accuracy: 0.6567 - val_loss: 0.5965 - val_accuracy: 0.6771\n",
      "Epoch 2/15\n",
      "43/43 [==============================] - 533s 12s/step - loss: 0.3275 - accuracy: 0.8785 - val_loss: 0.7425 - val_accuracy: 0.6596\n",
      "Epoch 3/15\n",
      "43/43 [==============================] - 536s 13s/step - loss: 0.1171 - accuracy: 0.9585 - val_loss: 0.9603 - val_accuracy: 0.6458\n",
      "Epoch 4/15\n",
      "43/43 [==============================] - 539s 13s/step - loss: 0.0384 - accuracy: 0.9876 - val_loss: 1.5744 - val_accuracy: 0.6356\n",
      "Epoch 5/15\n",
      "43/43 [==============================] - 538s 13s/step - loss: 0.0124 - accuracy: 0.9949 - val_loss: 1.9381 - val_accuracy: 0.6422\n",
      "Epoch 6/15\n",
      "43/43 [==============================] - 539s 13s/step - loss: 0.0145 - accuracy: 0.9956 - val_loss: 1.9099 - val_accuracy: 0.6422\n",
      "Epoch 7/15\n",
      "43/43 [==============================] - 546s 13s/step - loss: 0.0069 - accuracy: 0.9971 - val_loss: 2.2681 - val_accuracy: 0.6524\n",
      "71/71 [==============================] - 198s 3s/step - loss: 0.5674 - accuracy: 0.7120\n",
      "Loss: 0.5673564076423645\n",
      "Accuracy: 0.7120000123977661\n"
     ]
    }
   ],
   "source": [
    "# Define the model\n",
    "lstm_model = Sequential()\n",
    "feature_num = 5000\n",
    "lstm_model.add(Embedding(input_dim=vocab_size, output_dim=feature_num, input_length=sentence_len))\n",
    "lstm_model.add(LSTM(units=128))\n",
    "lstm_model.add(Dropout(0.4))\n",
    "lstm_model.add(Dense(units=80, activation='relu'))\n",
    "lstm_model.add(Dense(units=50, activation='relu'))\n",
    "lstm_model.add(Dense(units=1, activation='sigmoid'))\n",
    "\n",
    "# Compile the model\n",
    "lstm_model.compile(optimizer=Adam(learning_rate=0.001), loss='binary_crossentropy', metrics=['accuracy'])\n",
    "\n",
    "# Set up early stopping callback\n",
    "early_stopping = EarlyStopping(monitor='val_loss', patience=6, restore_best_weights=True)\n",
    "\n",
    "# Train the model with tuning options\n",
    "history = lstm_model.fit(X_train, y_train, validation_data=(X_val, y_val),\n",
    "                    epochs=15, batch_size=32, callbacks=[early_stopping])\n",
    "\n",
    "# Evaluate the model on the test data\n",
    "loss, accuracy = lstm_model.evaluate(X_test, y_test)\n",
    "\n",
    "# Print the loss and accuracy obtained\n",
    "print(\"Loss:\", loss)\n",
    "print(\"Accuracy:\", accuracy)"
   ]
  },
  {
   "cell_type": "code",
   "execution_count": 121,
   "metadata": {},
   "outputs": [
    {
     "name": "stdout",
     "output_type": "stream",
     "text": [
      "71/71 [==============================] - 208s 3s/step\n"
     ]
    }
   ],
   "source": [
    "y_pred = lstm_model.predict(X_test)\n",
    "y_pred = (y_pred>0.5)"
   ]
  },
  {
   "cell_type": "code",
   "execution_count": 122,
   "metadata": {},
   "outputs": [
    {
     "name": "stdout",
     "output_type": "stream",
     "text": [
      "Test Score:71.20%\n",
      "Classification Report:\n",
      "              precision    recall  f1-score   support\n",
      "\n",
      "           0       0.72      0.70      0.71      1122\n",
      "           1       0.71      0.73      0.72      1128\n",
      "\n",
      "    accuracy                           0.71      2250\n",
      "   macro avg       0.71      0.71      0.71      2250\n",
      "weighted avg       0.71      0.71      0.71      2250\n",
      "\n",
      "Confusion Matrix:\n",
      "[[783 339]\n",
      " [309 819]]\n"
     ]
    },
    {
     "data": {
      "image/png": "[encoded data removed]",
      "text/plain": [
       "<Figure size 432x288 with 2 Axes>"
      ]
     },
     "metadata": {},
     "output_type": "display_data"
    }
   ],
   "source": [
    "score=accuracy_score(y_test,y_pred)\n",
    "print(\"Test Score:{:.2f}%\".format(score*100))\n",
    "\n",
    "# Print the classification report\n",
    "print(\"Classification Report:\")\n",
    "print(classification_report(y_test, y_pred))\n",
    "\n",
    "# Print the confusion matrix\n",
    "print(\"Confusion Matrix:\")\n",
    "print(confusion_matrix(y_test, y_pred))\n",
    "\n",
    "# Plot the confusion matrix\n",
    "sns.heatmap(confusion_matrix(y_test, y_pred), annot=True, fmt='d')\n",
    "plt.show()"
   ]
  },
  {
   "cell_type": "code",
   "execution_count": 123,
   "metadata": {},
   "outputs": [
    {
     "data": {
      "image/png": "[encoded data removed]",
      "text/plain": [
       "<Figure size 432x432 with 1 Axes>"
      ]
     },
     "metadata": {},
     "output_type": "display_data"
    }
   ],
   "source": [
    "fpr, tpr, thresholds = roc_curve(y_test, y_pred)\n",
    "roc_auc = auc(fpr, tpr)\n",
    "\n",
    "plt.figure(figsize=(6,6))\n",
    "plt.plot(fpr, tpr, color='darkorange', lw=2, label='ROC curve (area = %0.2f)' % roc_auc)\n",
    "\n",
    "plt.plot([0, 1], [0, 1], color='navy', lw=2, linestyle='--')\n",
    "\n",
    "plt.xlim([0.0, 1.0])\n",
    "plt.ylim([0.0, 1.05])\n",
    "\n",
    "plt.xlabel('False Positive Rate')\n",
    "plt.ylabel('True Positive Rate')\n",
    "\n",
    "plt.title('Receiver operating characteristic example')\n",
    "plt.legend(loc=\"lower right\")\n",
    "plt.show()\n"
   ]
  },
  {
   "cell_type": "markdown",
   "metadata": {},
   "source": [
    "**Tweet Prediction Using LSTM Model**"
   ]
  },
  {
   "cell_type": "code",
   "execution_count": 150,
   "metadata": {},
   "outputs": [],
   "source": [
    "#Creating a prediction function and predicting if its spam or ham.\n",
    "def predict_out_lstm(text):\n",
    "    #Preprocessing the custom text\n",
    "    preprocessed_text = clean_text(text)\n",
    "    #Vectorizing the custom text using the same vectorizer used during training\n",
    "    custom_text_features = vectorizer.transform([preprocessed_text])\n",
    "  # Perform one-hot encoding on the processed sentences\n",
    "    one_hot_encodings = [one_hot(text, n=vocab_size) for sentence in custom_text_features]\n",
    "\n",
    "    # Pad the sequences to have the same length\n",
    "    padded_sequences = pad_sequences(one_hot_encodings, maxlen=sentence_len, padding='pre')\n",
    "    \n",
    "    # Predict the label for the text using the model\n",
    "    predicted_label = lstm_model.predict(padded_sequences)\n",
    "    \n",
    "    #Showing the pridiction\n",
    "    if predicted_label[0] >=0.5:\n",
    "        prediction = \"positive\"\n",
    "    else:\n",
    "        prediction = \"negative\"\n",
    "    print(\"Predicted Sentiment Tweet:\", prediction)"
   ]
  },
  {
   "cell_type": "code",
   "execution_count": 151,
   "metadata": {},
   "outputs": [
    {
     "name": "stdout",
     "output_type": "stream",
     "text": [
      "1/1 [==============================] - 0s 315ms/step\n",
      "Predicted Sentiment Tweet: negative\n"
     ]
    }
   ],
   "source": [
    "text1 = \"I hate this product!\"\n",
    "predict_out_lstm(text1)"
   ]
  },
  {
   "cell_type": "code",
   "execution_count": 152,
   "metadata": {},
   "outputs": [
    {
     "name": "stdout",
     "output_type": "stream",
     "text": [
      "1/1 [==============================] - 0s 325ms/step\n",
      "Predicted Sentiment Tweet: positive\n"
     ]
    }
   ],
   "source": [
    "text2 = 'WOW ! Such a beautiful day!!!'\n",
    "predict_out_lstm(text2)"
   ]
  },
  {
   "cell_type": "code",
   "execution_count": null,
   "metadata": {},
   "outputs": [],
   "source": []
  }
 ],
 "metadata": {
  "colab": {
   "provenance": []
  },
  "kernelspec": {
   "display_name": "Python 3 (ipykernel)",
   "language": "python",
   "name": "python3"
  },
  "language_info": {
   "codemirror_mode": {
    "name": "ipython",
    "version": 3
   },
   "file_extension": ".py",
   "mimetype": "text/x-python",
   "name": "python",
   "nbconvert_exporter": "python",
   "pygments_lexer": "ipython3",
   "version": "3.9.12"
  }
 },
 "nbformat": 4,
 "nbformat_minor": 1
}
